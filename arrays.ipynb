{
  "nbformat": 4,
  "nbformat_minor": 0,
  "metadata": {
    "colab": {
      "provenance": [],
      "authorship_tag": "ABX9TyMNb7DM6W2Kr+i3heYw2MDz",
      "include_colab_link": true
    },
    "kernelspec": {
      "name": "python3",
      "display_name": "Python 3"
    },
    "language_info": {
      "name": "python"
    }
  },
  "cells": [
    {
      "cell_type": "markdown",
      "metadata": {
        "id": "view-in-github",
        "colab_type": "text"
      },
      "source": [
        "<a href=\"https://colab.research.google.com/github/viratbhoomi/DSA/blob/main/arrays.ipynb\" target=\"_parent\"><img src=\"https://colab.research.google.com/assets/colab-badge.svg\" alt=\"Open In Colab\"/></a>"
      ]
    },
    {
      "cell_type": "code",
      "execution_count": 6,
      "metadata": {
        "id": "RAUFjw_iyxGY",
        "colab": {
          "base_uri": "https://localhost:8080/"
        },
        "outputId": "50dcec9c-add6-4d4d-cef7-d6c334e9474f"
      },
      "outputs": [
        {
          "output_type": "stream",
          "name": "stdout",
          "text": [
            "87\n",
            "11\n"
          ]
        }
      ],
      "source": [
        "# arrays are not native data struvtures in python. Instead, we use list, which are similar but more flexible. However, there are models available in python\n",
        "# for creating more efficient arrays with a specific data type, mainly for numeric data  type.\n",
        "# We can use numpy module and array module to create an array data structure in python.\n",
        "# These modules  provide an array data structure that is more memory efficient than the list for specific data structures.\n",
        "# They store elements as contiguous block of memory without pointers,\n",
        "# reducing memory overhead. However array objects can only store elements of same data type.\n",
        "# Types of array - one dimensional and multi dimensional(two, three, four,-------n dimensional).\n",
        "\n",
        "arr = [[11,68,87,12],[5,4,10,11,8]]\n",
        "# to access the elements of the array we need to use row index and column index numbers\n",
        "# accessing 87 and 11 elements from the array\n",
        "print(arr[0][2])\n",
        "print(arr[1][3])\n",
        "\n",
        "# two, three, four---- n dimensional array in the memory will be represented as one dimensional array.\n"
      ]
    },
    {
      "cell_type": "code",
      "source": [
        "# prompt:\n",
        "\n",
        "# creating a two dimensional array\n",
        "arr = [[11,68,87,12],[5,4,10,11,8]]\n",
        "\n",
        "# accessing the elements of the array using row index and column index numbers\n",
        "print(arr[0][2])  # accessing 87\n",
        "print(arr[1][3])  # accessing 11\n",
        "\n",
        "# creating a three dimensional array\n",
        "arr3d = [[[1, 2, 3], [4, 5, 6]], [[7, 8, 9], [10, 11, 12]]]\n",
        "\n",
        "# accessing the elements of the three dimensional array using row index, column index and depth index numbers\n",
        "print(arr3d[0][1][2])  # accessing 6\n",
        "print(arr3d[1][0][1])  # accessing 8\n"
      ],
      "metadata": {
        "colab": {
          "base_uri": "https://localhost:8080/"
        },
        "id": "67_7G1aGdvX6",
        "outputId": "d9c3b339-311d-4a5f-be12-5afbc5534f51"
      },
      "execution_count": 7,
      "outputs": [
        {
          "output_type": "stream",
          "name": "stdout",
          "text": [
            "87\n",
            "11\n",
            "6\n",
            "8\n"
          ]
        }
      ]
    },
    {
      "cell_type": "code",
      "source": [
        "# creating an array\n",
        "import array\n",
        "# this will create a memory block for an array in the memory the memory size will be changed based on the elements.\n",
        "# array is a standard library in python it is more memory efficient than lists in python.\n",
        "# the only limitation in the array is it supports only basic data types, custom data types or mixed data types are not allowed.\n",
        "arr = array.array('i')\n",
        "print(arr)\n",
        "\n",
        "arr_1 = array.array('i',[1,2,3,4])\n",
        "print(arr_1)\n",
        "\n",
        "import numpy as np\n",
        "np_array = np.array([],dtype=int)\n",
        "print(np_array)\n",
        "np_array_1 = np.array([1,2,3,4,5,6])\n",
        "print(np_array_1)\n",
        "\n",
        "# creating an empty array by using array and numpy the time complexity and space complexity is O(1)\n",
        "# creating the array with elements in both array and numpy module is O(N)\n",
        "\n"
      ],
      "metadata": {
        "colab": {
          "base_uri": "https://localhost:8080/"
        },
        "id": "U0q4TtvRgyny",
        "outputId": "e7f2ddc8-c336-4d90-a9d0-47067c9967d7"
      },
      "execution_count": 14,
      "outputs": [
        {
          "output_type": "stream",
          "name": "stdout",
          "text": [
            "array('i')\n",
            "array('i', [1, 2, 3, 4])\n",
            "[]\n",
            "[1 2 3 4 5 6]\n"
          ]
        }
      ]
    },
    {
      "cell_type": "code",
      "source": [
        "# Note : Python does not have built-in support for Arrays, but Python Lists can be used instead.\n",
        "# Inserting Elements to array\n",
        "# inserting elements in the array is in 3 ways inserting in the starting,middle and last.\n",
        "# inserting the elements in the start and middle is time consuming process. so inserting them in the last is the efficient process.\n",
        "import array\n",
        "arr_1 = array.array('i',[1,2,3,4])\n",
        "print(arr_1)\n",
        "# time complexity for inserting depends on the no of elements that are shifted to right in the array.\n",
        "# in the worst case scenario if the elements are inserted at the biginning of the array the time complexity is O(N)\n",
        "# the space complexity is O(1), inserting element is constant.\n",
        "arr_1.insert(4,6)\n",
        "print(arr_1)\n",
        "\n",
        "# traversing the array\n",
        "from array import *\n",
        "arr_1 = array('i',[1,2,4,5,7,8])\n",
        "arr_2 = array('d',[6.5,5.8,4.4,8.9,9.1,7.3])\n",
        "\n",
        "def traversing_array(array):\n",
        "  print(\"Traversing the array: \")\n",
        "  for i in array: # ---------------O(N)\n",
        "    print(i) # -------O(1)\n",
        "  print(\"The Time and Space Complexity for Traversing the array is O(N) & O(1) \")\n",
        "traversing_array(arr_1)\n"
      ],
      "metadata": {
        "colab": {
          "base_uri": "https://localhost:8080/"
        },
        "id": "4tWQ9Wigg5FU",
        "outputId": "c81d2d67-5172-446f-efdc-40943eca6cee"
      },
      "execution_count": 4,
      "outputs": [
        {
          "output_type": "stream",
          "name": "stdout",
          "text": [
            "array('i', [1, 2, 3, 4])\n",
            "array('i', [1, 2, 3, 4, 6])\n",
            "Traversing the array: \n",
            "1\n",
            "2\n",
            "4\n",
            "5\n",
            "7\n",
            "8\n",
            "The Time and Space Complexity for Traversing the array is O(N) & O(1) \n"
          ]
        }
      ]
    },
    {
      "cell_type": "code",
      "source": [
        "# Accessing an element of array\n",
        "from array import *\n",
        "\n",
        "arr = array('i',[1,2,3,4,5])\n",
        "def accessElement(array,index):\n",
        "  if index >= len(array):  # -------------------O(1)\n",
        "    print(\"No element present with this index\")   # ------------------------O(1)\n",
        "  else:\n",
        "    print(array[index]) # -------------------O(1)\n",
        "\n",
        "  print(\"The Time and Space Complexity for accessing an element of array O(1) \")\n",
        "accessElement(arr,5)\n"
      ],
      "metadata": {
        "colab": {
          "base_uri": "https://localhost:8080/"
        },
        "id": "bNrEM1e3lmkD",
        "outputId": "96afff03-6647-4829-a358-d4a4c4fe4ce9"
      },
      "execution_count": 10,
      "outputs": [
        {
          "output_type": "stream",
          "name": "stdout",
          "text": [
            "No element present with this index\n",
            "The Time and Space Complexity for accessing an element of array O(1) \n"
          ]
        }
      ]
    },
    {
      "cell_type": "code",
      "source": [
        "# searching for an element in an array\n",
        "# searching an element in an array is by using \"linear search algorithm\".\n",
        "# The time complexity for range and len() is O(1)\n",
        "\n",
        "from array import *\n",
        "\n",
        "arr = array('i',[1,2,3,4,5])\n",
        "def linearSearch(array,target):\n",
        "  print(\"The Time and Space Complexity for searching for an element in an array is O(N) & O(1) \")\n",
        "  for i in range(len(array)): # ---------------O(N)\n",
        "    if array[i] == target: # ------------O(1)\n",
        "      return i  # ------------O(1)\n",
        "  return -1  # ------------O(1)\n",
        "linearSearch(arr,5)\n",
        "\n",
        "\n",
        "\n",
        "\n",
        "\n"
      ],
      "metadata": {
        "colab": {
          "base_uri": "https://localhost:8080/"
        },
        "id": "FIObI3fvJBNj",
        "outputId": "48136382-262b-4171-9bdc-ebdbc07073d8"
      },
      "execution_count": 14,
      "outputs": [
        {
          "output_type": "stream",
          "name": "stdout",
          "text": [
            "The Time and Space Complexity for searching for an element in an array is O(N) & O(1) \n"
          ]
        },
        {
          "output_type": "execute_result",
          "data": {
            "text/plain": [
              "4"
            ]
          },
          "metadata": {},
          "execution_count": 14
        }
      ]
    },
    {
      "cell_type": "code",
      "source": [
        "# deleting an element from array\n",
        "# deletion is very efficient when we remove the last element otherwise deletion becomes time consuming.\n",
        "\n",
        "from array import *\n",
        "\n",
        "arr = array('i',[1,2,3,4,5])\n",
        "arr.remove(5)\n",
        "print(arr)\n",
        "\n",
        "# time and space complexity for removing the element in an array in worst case scenario is O(N)\n",
        "# if we remove the last element then O(1) & space complexity O(1)\n",
        "\n",
        "\n"
      ],
      "metadata": {
        "colab": {
          "base_uri": "https://localhost:8080/"
        },
        "id": "2ci5OBNiK1Ug",
        "outputId": "c65c6644-af12-4820-d490-c14a7591164c"
      },
      "execution_count": 18,
      "outputs": [
        {
          "output_type": "stream",
          "name": "stdout",
          "text": [
            "array('i', [1, 2, 3, 4])\n"
          ]
        }
      ]
    },
    {
      "cell_type": "code",
      "source": [
        "# Time and Space Complexity for One Dimensional Array\n",
        "# creating an empty array           O(1)   O(1)\n",
        "# creating an array with elements   O(N)   O(N)\n",
        "# inserting a value in an array     O(N)   O(1)\n",
        "# traversing a given array          O(N)   O(1)\n",
        "# accessing a given value           O(1)   O(1)\n",
        "# searching a given value           O(N)   O(1)\n",
        "# deleting a given value            O(N)   O(1)\n",
        "\n",
        "\n",
        "\n",
        "\n"
      ],
      "metadata": {
        "id": "KZ0-zlQMNVW5"
      },
      "execution_count": 1,
      "outputs": []
    },
    {
      "cell_type": "code",
      "source": [
        "from array import *\n",
        "\n",
        "# create an array and traverse\n",
        "arr = array('i',[1,2,3,4,5])\n",
        "for i in arr:  #----------------O(N)\n",
        "  print(i)\n",
        "\n",
        "# Access individual elements through indexes\n",
        "print(arr[0])\n",
        "print(arr[3])\n",
        "\n",
        "# append any value to the array using append() method.\n",
        "arr.append(6)   #------------O(1)\n",
        "print(arr)\n",
        "\n",
        "# insert a value in an array using insert() method\n",
        "arr.insert(3,11)\n",
        "print(arr)\n",
        "\n",
        "# extend python array using extend() method.\n",
        "new_arr = array('i',[8,9,7,8,5])\n",
        "arr.extend(new_arr)\n",
        "print(arr)\n",
        "\n",
        "# add items from list into array using fromlist() method.\n",
        "l = [9,7,5,8,7]\n",
        "arr.fromlist(l)\n",
        "print(arr)\n",
        "\n",
        "\n",
        "# remove any element using reverse() method.\n",
        "arr.remove(11)\n",
        "print(arr)\n",
        "\n",
        "\n",
        "# remove last array element using pop().\n",
        "arr.pop()\n",
        "print(arr)\n",
        "\n",
        "# fetch any element through its index using index() method.\n",
        "print(arr.index(4))\n",
        "\n",
        "# reverse a python array using reverse() method.\n",
        "arr.reverse()\n",
        "print(arr)\n",
        "\n",
        "# get array buffer information through buffer_info() method.\n",
        "print(arr.buffer_info())\n",
        "\n",
        "# check for number of occurences of an element using count().\n",
        "print(arr.count(8))\n",
        "\n",
        "# convert array to string using tostring() method. (removed from python)\n",
        "# array_to_string = arr.tostring()\n",
        "# print(array_to_string)\n",
        "\n",
        "\n",
        "# convert array to python list using tolist() method.\n",
        "array_to_list = arr.tolist()\n",
        "print(array_to_list)\n",
        "\n",
        "# slice elements from an array\n",
        "print(arr[0:3])\n",
        "\n"
      ],
      "metadata": {
        "colab": {
          "base_uri": "https://localhost:8080/"
        },
        "id": "uG4FuWJXqfeT",
        "outputId": "c9adb26c-9703-4c37-c45e-c9cb71c334f9"
      },
      "execution_count": 19,
      "outputs": [
        {
          "output_type": "stream",
          "name": "stdout",
          "text": [
            "1\n",
            "2\n",
            "3\n",
            "4\n",
            "5\n",
            "1\n",
            "4\n",
            "array('i', [1, 2, 3, 4, 5, 6])\n",
            "array('i', [1, 2, 3, 11, 4, 5, 6])\n",
            "array('i', [1, 2, 3, 11, 4, 5, 6, 8, 9, 7, 8, 5])\n",
            "array('i', [1, 2, 3, 11, 4, 5, 6, 8, 9, 7, 8, 5, 9, 7, 5, 8, 7])\n",
            "array('i', [1, 2, 3, 4, 5, 6, 8, 9, 7, 8, 5, 9, 7, 5, 8, 7])\n",
            "array('i', [1, 2, 3, 4, 5, 6, 8, 9, 7, 8, 5, 9, 7, 5, 8])\n",
            "3\n",
            "array('i', [8, 5, 7, 9, 5, 8, 7, 9, 8, 6, 5, 4, 3, 2, 1])\n",
            "(137293598355424, 15)\n",
            "3\n",
            "[8, 5, 7, 9, 5, 8, 7, 9, 8, 6, 5, 4, 3, 2, 1]\n",
            "array('i', [8, 5, 7])\n"
          ]
        }
      ]
    },
    {
      "cell_type": "code",
      "source": [
        "# Two Dimensional Array\n",
        "# time complexity for creating a two dimensional array is O(mn).\n",
        "\n",
        "import numpy as np\n",
        "arr = np.array([[11,15,10,6],[10,14,11,5],[12,17,12,8],[15,18,14,9]])\n",
        "print(arr)\n",
        "\n",
        "# insertion in 2d array\n",
        "# time complexity is O(mn) for adding the row or column in the start.\n",
        "# row -- axis=0, column -- axis=1\n",
        "# 0 - which the position of the matrix. we can change the position based on the requirement like 0,1,2,3---\n",
        "new_two_dim_arr = np.insert(arr,0,[[1,2,3,4]], axis=1)\n",
        "print(new_two_dim_arr)\n",
        "\n",
        "# we can also add the new row at the end of the matrix directly by using the append().\n",
        "new_dim_arr = np.append(arr,[[1,2,3,4]],axis=0)\n",
        "print(new_dim_arr)\n",
        "\n",
        "\n",
        "\n"
      ],
      "metadata": {
        "colab": {
          "base_uri": "https://localhost:8080/"
        },
        "id": "a4x--WNVq-LC",
        "outputId": "02148c1f-9896-4e9c-d0fc-3a649adf1f78"
      },
      "execution_count": 31,
      "outputs": [
        {
          "output_type": "stream",
          "name": "stdout",
          "text": [
            "[[11 15 10  6]\n",
            " [10 14 11  5]\n",
            " [12 17 12  8]\n",
            " [15 18 14  9]]\n",
            "[[ 1 11 15 10  6]\n",
            " [ 2 10 14 11  5]\n",
            " [ 3 12 17 12  8]\n",
            " [ 4 15 18 14  9]]\n",
            "[[11 15 10  6]\n",
            " [10 14 11  5]\n",
            " [12 17 12  8]\n",
            " [15 18 14  9]\n",
            " [ 1  2  3  4]]\n"
          ]
        }
      ]
    },
    {
      "cell_type": "code",
      "source": [
        "# accessing the elements of two dimensional array.\n",
        "# time complexity is O(1) and space complexity O(1)\n",
        "\n",
        "import numpy as np\n",
        "arr = np.array([[11,15,10,6],[10,14,11,5],[12,17,12,8],[15,18,14,9]])\n",
        "print(arr)\n",
        "\n",
        "def accessElements(array, rowIndex, columnIndex):\n",
        "  if rowIndex >= len(array) and columnIndex >= len(array[0]):   #---------------O(1)\n",
        "    print(\"Incorrect Index\")   #------------------------O(1)\n",
        "  else:\n",
        "    print(array[rowIndex][columnIndex])  #---------------O(1)\n",
        "accessElements(arr, 3, 3)\n"
      ],
      "metadata": {
        "colab": {
          "base_uri": "https://localhost:8080/"
        },
        "id": "eIYTKsWVx_W0",
        "outputId": "b436b541-2222-4385-fcaa-29dbc61ff539"
      },
      "execution_count": 32,
      "outputs": [
        {
          "output_type": "stream",
          "name": "stdout",
          "text": [
            "[[11 15 10  6]\n",
            " [10 14 11  5]\n",
            " [12 17 12  8]\n",
            " [15 18 14  9]]\n",
            "9\n"
          ]
        }
      ]
    },
    {
      "cell_type": "code",
      "source": [
        "# traversing the two dimensional array\n",
        "import numpy as np\n",
        "arr = np.array([[11,15,10,6],[10,14,11,5],[12,17,12,8],[15,18,14,9]])\n",
        "print(arr)\n",
        "\n",
        "def traversingTwoDimArray(array):\n",
        "  for i in range(len(array)):   #------------------O(mn)\n",
        "    for j in range(len(array[0])):   #------------------O(n)\n",
        "      print(array[i][j],  end=\" \")   #------------------O(1)\n",
        "traversingTwoDimArray(arr)\n",
        "# time complexity and space complexity is O(n^2) & O(1)\n"
      ],
      "metadata": {
        "colab": {
          "base_uri": "https://localhost:8080/"
        },
        "id": "zPK0JTPnIErU",
        "outputId": "21859fb1-c9d9-41f4-f410-0e89a9a1cf5d"
      },
      "execution_count": 35,
      "outputs": [
        {
          "output_type": "stream",
          "name": "stdout",
          "text": [
            "[[11 15 10  6]\n",
            " [10 14 11  5]\n",
            " [12 17 12  8]\n",
            " [15 18 14  9]]\n",
            "11 15 10 6 10 14 11 5 12 17 12 8 15 18 14 9 "
          ]
        }
      ]
    },
    {
      "cell_type": "code",
      "source": [
        "# searching two dimensional array\n",
        "# there are multiple algorithms for searching in two dimensional array. Here we are using linear search algorithm.\n",
        "\n",
        "import numpy as np\n",
        "arr = np.array([[11,15,10,6],[10,14,11,5],[12,17,12,8],[15,18,14,9]])\n",
        "print(arr)\n",
        "\n",
        "def searchTwoDimensionalArray(array,value):\n",
        "  for i in range(len(array)):  # ----------------------O(mn)\n",
        "    for j  in range(len(array[0])):  # ----------------O(n)\n",
        "      if array[i][j]==value: # ------------------------O(1)\n",
        "        return \"The value is located at index \"+str(i)+\" \"+str(j)\n",
        "  return \"The element is not found\"\n",
        "searchTwoDimensionalArray(arr,14)\n",
        "\n",
        "# time complexity and space complexity O(mn) & O(1)\n",
        "# in the above function we have same no of rows and columns so the time time complexity is O(mn) otherwise it is quadratic time complexity.\n",
        "\n"
      ],
      "metadata": {
        "colab": {
          "base_uri": "https://localhost:8080/",
          "height": 105
        },
        "id": "wnP9KHgvKAF8",
        "outputId": "13e35b3b-3687-4964-bc5d-444cb98fa196"
      },
      "execution_count": 36,
      "outputs": [
        {
          "output_type": "stream",
          "name": "stdout",
          "text": [
            "[[11 15 10  6]\n",
            " [10 14 11  5]\n",
            " [12 17 12  8]\n",
            " [15 18 14  9]]\n"
          ]
        },
        {
          "output_type": "execute_result",
          "data": {
            "text/plain": [
              "'The value is located at index 1 1'"
            ],
            "application/vnd.google.colaboratory.intrinsic+json": {
              "type": "string"
            }
          },
          "metadata": {},
          "execution_count": 36
        }
      ]
    },
    {
      "cell_type": "code",
      "source": [
        "# Deletion Two Dimensional Array\n",
        "# the time complexity for deleting row or column is O(mn) becoz after deleting it needs to copy the remaining elemnts without loosing\n",
        "# and the space complexity is also the same O(mn).\n",
        "\n",
        "import numpy as np\n",
        "arr = np.array([[11,15,10,6],[10,14,11,5],[12,17,12,8],[15,18,14,9]])\n",
        "print(arr)\n",
        "\n",
        "new_arr = np.delete(arr,0,axis=0)\n",
        "print(new_arr)\n"
      ],
      "metadata": {
        "colab": {
          "base_uri": "https://localhost:8080/"
        },
        "id": "faFIz7tjYWN9",
        "outputId": "0fcbbc45-f615-46f6-e5d2-561c4f2f0927"
      },
      "execution_count": 37,
      "outputs": [
        {
          "output_type": "stream",
          "name": "stdout",
          "text": [
            "[[11 15 10  6]\n",
            " [10 14 11  5]\n",
            " [12 17 12  8]\n",
            " [15 18 14  9]]\n",
            "[[10 14 11  5]\n",
            " [12 17 12  8]\n",
            " [15 18 14  9]]\n"
          ]
        }
      ]
    },
    {
      "cell_type": "code",
      "source": [
        "# time and space complexity of 2D array\n",
        "# creating an empty array           O(1)    O(1)\n",
        "# creating an array with elements   O(mn)   O(mn)\n",
        "# inserting a value in an array     O(mn)   O(mn)\n",
        "# traversing a given array          O(mn)   O(1)\n",
        "# accessing a given value           O(1)    O(1)\n",
        "# searching a given value           O(mn)   O(1)\n",
        "# deleting a given value            O(mn)   O(mn)"
      ],
      "metadata": {
        "id": "F2J-rMHpdpOS"
      },
      "execution_count": 38,
      "outputs": []
    },
    {
      "cell_type": "code",
      "source": [
        "# when to use or avoid arrays\n",
        "# use\n",
        "# to store multiple values of same data type.\n",
        "# when we want to access random values\n",
        "# avoid\n",
        "# same data type elements\n",
        "# reserve specific amount of memory\n",
        ""
      ],
      "metadata": {
        "id": "M48ZS920ekAv"
      },
      "execution_count": null,
      "outputs": []
    }
  ]
}