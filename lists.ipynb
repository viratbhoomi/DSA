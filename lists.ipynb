{
  "nbformat": 4,
  "nbformat_minor": 0,
  "metadata": {
    "colab": {
      "provenance": [],
      "authorship_tag": "ABX9TyOgvs7TWZZsTwWxK4gtSsyb",
      "include_colab_link": true
    },
    "kernelspec": {
      "name": "python3",
      "display_name": "Python 3"
    },
    "language_info": {
      "name": "python"
    }
  },
  "cells": [
    {
      "cell_type": "markdown",
      "metadata": {
        "id": "view-in-github",
        "colab_type": "text"
      },
      "source": [
        "<a href=\"https://colab.research.google.com/github/viratbhoomi/DSA/blob/main/lists.ipynb\" target=\"_parent\"><img src=\"https://colab.research.google.com/assets/colab-badge.svg\" alt=\"Open In Colab\"/></a>"
      ]
    },
    {
      "cell_type": "code",
      "execution_count": null,
      "metadata": {
        "id": "y4vD1SI3lkyl",
        "colab": {
          "base_uri": "https://localhost:8080/"
        },
        "outputId": "1c8a61a5-87a2-4d2c-d493-2aead4de722c"
      },
      "outputs": [
        {
          "output_type": "stream",
          "name": "stdout",
          "text": [
            "True\n",
            "Butter\n",
            "Butter\n",
            "Cheese\n",
            "Milk\n",
            "-------------------------------------------------------------\n",
            "Milk\n",
            "Cheese\n",
            "Butter\n",
            "-------------------------------------------------------------\n",
            "Milk+\n",
            "Cheese+\n",
            "Butter+\n"
          ]
        }
      ],
      "source": [
        "# Python Lists are built in data structure in python.\n",
        "# A list stores ordered collection of items.\n",
        "\n",
        "shoppingList = ['Milk','Cheese','Butter']\n",
        "print('Milk' in shoppingList)\n",
        "print(shoppingList[2])\n",
        "print(shoppingList[-1])\n",
        "print(shoppingList[-2])\n",
        "print(shoppingList[-3])\n",
        "print(\"-------------------------------------------------------------\")\n",
        "\n",
        "for i in shoppingList:\n",
        "  print(i)\n",
        "print(\"-------------------------------------------------------------\")\n",
        "for i in range(len(shoppingList)):\n",
        "  shoppingList[i]=shoppingList[i]+\"+\"\n",
        "  print(shoppingList[i])\n",
        "\n",
        "\n"
      ]
    },
    {
      "cell_type": "code",
      "source": [
        "l = [1,2,3,4,5,6,7]\n",
        "print(l)\n",
        "l[2]=33\n",
        "print(l)\n",
        "# time and space complexity is O(1)\n",
        "l.insert(4,15)  #------------------------O(N)\n",
        "print(l)                                    # space complexity O(1)\n",
        "l.append(51)    # -----------------------O(1)\n",
        "print(l)\n",
        "l.extend([88,75,95,68])   #--------------O(N)  # space complexity O(N)\n",
        "print(l)\n"
      ],
      "metadata": {
        "colab": {
          "base_uri": "https://localhost:8080/"
        },
        "id": "bnV9naGtLXw2",
        "outputId": "77573d34-d595-45b2-f845-5d843853ae05"
      },
      "execution_count": null,
      "outputs": [
        {
          "output_type": "stream",
          "name": "stdout",
          "text": [
            "[1, 2, 3, 4, 5, 6, 7]\n",
            "[1, 2, 33, 4, 5, 6, 7]\n",
            "[1, 2, 33, 4, 15, 5, 6, 7]\n",
            "[1, 2, 33, 4, 15, 5, 6, 7, 51]\n",
            "[1, 2, 33, 4, 15, 5, 6, 7, 51, 88, 75, 95, 68]\n"
          ]
        }
      ]
    },
    {
      "cell_type": "code",
      "source": [
        "l = [\"a\",\"b\",\"c\",\"d\",\"e\",\"f\"]\n",
        "l[0:2] = [\"x\",\"y\"]\n",
        "print(l)\n",
        "l.pop(1)   #--------------O(1)\n",
        "print(l)\n",
        "l.pop()    #--------------O(N)\n",
        "print(l)\n",
        "del l[2]   #--------------O(N)\n",
        "print(l)\n",
        "del l[2:3]  #--------------O(N)\n",
        "print(l)\n",
        "l.remove(\"x\")  #--------------O(N)\n",
        "print(l)\n",
        "\n",
        "# The space complexity for all these methods is O(N)"
      ],
      "metadata": {
        "colab": {
          "base_uri": "https://localhost:8080/"
        },
        "id": "4b-HNBWaMxjS",
        "outputId": "9bd7385e-c019-43a0-84de-2bed7aa19a0f"
      },
      "execution_count": null,
      "outputs": [
        {
          "output_type": "stream",
          "name": "stdout",
          "text": [
            "['x', 'y', 'c', 'd', 'e', 'f']\n",
            "['x', 'c', 'd', 'e', 'f']\n",
            "['x', 'c', 'd', 'e']\n",
            "['x', 'c', 'e']\n",
            "['x', 'c']\n",
            "['c']\n"
          ]
        }
      ]
    },
    {
      "cell_type": "code",
      "source": [
        "# searching for an element in list\n",
        "l = [10,20,30,40,50,60,70,80,90]\n",
        "target = 50\n",
        "if target in l:\n",
        "  print(f\"{target} is in the list\")\n",
        "else:\n",
        "  print(f\"{target} is in the list\")\n",
        "\n",
        "\n",
        "def linear_search(p_list,p_target):\n",
        "  for i,value in enumerate(p_list):   #---------------O(N)\n",
        "    if value == p_target:             #---------------O(1)\n",
        "      return i                        #---------------O(1)\n",
        "  return -1                           #---------------O(1)\n",
        "linear_search(l,target)\n",
        "\n",
        "# The space complexity is O(1)"
      ],
      "metadata": {
        "colab": {
          "base_uri": "https://localhost:8080/"
        },
        "id": "6Am1wEwCPb4f",
        "outputId": "6e6a6e41-def0-4aae-dd48-dc54dc1c7bf3"
      },
      "execution_count": null,
      "outputs": [
        {
          "output_type": "stream",
          "name": "stdout",
          "text": [
            "50 is in the list\n"
          ]
        },
        {
          "output_type": "execute_result",
          "data": {
            "text/plain": [
              "4"
            ]
          },
          "metadata": {},
          "execution_count": 4
        }
      ]
    },
    {
      "cell_type": "code",
      "source": [
        "a = [1,2,3]\n",
        "b = [3,4,5]\n",
        "c =  a+b\n",
        "print(c)\n",
        "print(a*4)\n",
        "\n",
        "l = [0,1,2,3,4,5,6,7,8,9]\n",
        "print(len(l))\n",
        "print(max(l))\n",
        "print(min(l))\n",
        "print(sum(l))"
      ],
      "metadata": {
        "colab": {
          "base_uri": "https://localhost:8080/"
        },
        "id": "BKlAEfWDSGaI",
        "outputId": "ee7d57f7-fb68-402d-f9d3-1abcc83b4d01"
      },
      "execution_count": null,
      "outputs": [
        {
          "output_type": "stream",
          "name": "stdout",
          "text": [
            "[1, 2, 3, 3, 4, 5]\n",
            "[1, 2, 3, 1, 2, 3, 1, 2, 3, 1, 2, 3]\n",
            "10\n",
            "9\n",
            "0\n",
            "45\n"
          ]
        }
      ]
    },
    {
      "cell_type": "code",
      "source": [
        "numbers = []  # Initialize an empty list\n",
        "while True:\n",
        "    user_input = input(\"Enter a number: \")  # Use a different variable name for input\n",
        "    if user_input == \"done\":  # If user inputs \"done\", exit the loop\n",
        "        break\n",
        "    value = float(user_input)  # Convert input to float\n",
        "    numbers.append(value)  # Append the float value to the list\n",
        "average = sum(numbers) / len(numbers)  # Calculate the average of the numbers in the list\n",
        "print(\"average:\", average)  # Print the average"
      ],
      "metadata": {
        "colab": {
          "base_uri": "https://localhost:8080/"
        },
        "id": "UN9SdxNRT8eC",
        "outputId": "15a749cb-8300-47fb-ce53-366d97d3fd02"
      },
      "execution_count": null,
      "outputs": [
        {
          "output_type": "stream",
          "name": "stdout",
          "text": [
            "Enter a number: 15\n",
            "Enter a number: 18\n",
            "Enter a number: 24\n",
            "Enter a number: 68\n",
            "Enter a number: 40\n",
            "Enter a number: 95\n",
            "Enter a number: done\n",
            "average: 43.333333333333336\n"
          ]
        }
      ]
    },
    {
      "cell_type": "code",
      "source": [
        "a = \"spam spam spam\"\n",
        "delimiter = \" \"\n",
        "b = a.split(delimiter)\n",
        "print(b)\n",
        "print(delimiter.join(b))"
      ],
      "metadata": {
        "colab": {
          "base_uri": "https://localhost:8080/"
        },
        "id": "O-zY-jyYWIQo",
        "outputId": "1cdc897d-e419-4445-a313-f3fd44c2003f"
      },
      "execution_count": null,
      "outputs": [
        {
          "output_type": "stream",
          "name": "stdout",
          "text": [
            "['spam', 'spam', 'spam']\n",
            "spam spam spam\n"
          ]
        }
      ]
    },
    {
      "cell_type": "code",
      "source": [
        "# lists vs arrays\n",
        "# 1. both data structures are mutable.\n",
        "# 2. both can be indexed and iterated through\n",
        "# 3. They can be both sliced.\n",
        "\n",
        "import numpy as np\n",
        "arr = np.array([1,2,3,4,5,6,7,8,9])\n",
        "print(arr/2)\n",
        "l = [1,2,3,4,5,6,7,8,9]\n",
        "print(l/2)\n",
        "\n"
      ],
      "metadata": {
        "colab": {
          "base_uri": "https://localhost:8080/",
          "height": 211
        },
        "id": "9sQpUpyJYaLC",
        "outputId": "9cf6861f-6c75-4dda-b3c8-20874aa25a99"
      },
      "execution_count": null,
      "outputs": [
        {
          "output_type": "stream",
          "name": "stdout",
          "text": [
            "[0.5 1.  1.5 2.  2.5 3.  3.5 4.  4.5]\n"
          ]
        },
        {
          "output_type": "error",
          "ename": "TypeError",
          "evalue": "unsupported operand type(s) for /: 'list' and 'int'",
          "traceback": [
            "\u001b[0;31m---------------------------------------------------------------------------\u001b[0m",
            "\u001b[0;31mTypeError\u001b[0m                                 Traceback (most recent call last)",
            "\u001b[0;32m<ipython-input-10-90e66bcaf592>\u001b[0m in \u001b[0;36m<cell line: 10>\u001b[0;34m()\u001b[0m\n\u001b[1;32m      8\u001b[0m \u001b[0mprint\u001b[0m\u001b[0;34m(\u001b[0m\u001b[0marr\u001b[0m\u001b[0;34m/\u001b[0m\u001b[0;36m2\u001b[0m\u001b[0;34m)\u001b[0m\u001b[0;34m\u001b[0m\u001b[0;34m\u001b[0m\u001b[0m\n\u001b[1;32m      9\u001b[0m \u001b[0ml\u001b[0m \u001b[0;34m=\u001b[0m \u001b[0;34m[\u001b[0m\u001b[0;36m1\u001b[0m\u001b[0;34m,\u001b[0m\u001b[0;36m2\u001b[0m\u001b[0;34m,\u001b[0m\u001b[0;36m3\u001b[0m\u001b[0;34m,\u001b[0m\u001b[0;36m4\u001b[0m\u001b[0;34m,\u001b[0m\u001b[0;36m5\u001b[0m\u001b[0;34m,\u001b[0m\u001b[0;36m6\u001b[0m\u001b[0;34m,\u001b[0m\u001b[0;36m7\u001b[0m\u001b[0;34m,\u001b[0m\u001b[0;36m8\u001b[0m\u001b[0;34m,\u001b[0m\u001b[0;36m9\u001b[0m\u001b[0;34m]\u001b[0m\u001b[0;34m\u001b[0m\u001b[0;34m\u001b[0m\u001b[0m\n\u001b[0;32m---> 10\u001b[0;31m \u001b[0mprint\u001b[0m\u001b[0;34m(\u001b[0m\u001b[0ml\u001b[0m\u001b[0;34m/\u001b[0m\u001b[0;36m2\u001b[0m\u001b[0;34m)\u001b[0m\u001b[0;34m\u001b[0m\u001b[0;34m\u001b[0m\u001b[0m\n\u001b[0m\u001b[1;32m     11\u001b[0m \u001b[0;34m\u001b[0m\u001b[0m\n",
            "\u001b[0;31mTypeError\u001b[0m: unsupported operand type(s) for /: 'list' and 'int'"
          ]
        }
      ]
    },
    {
      "cell_type": "code",
      "source": [
        "# time and space complexity of list\n",
        "# creating an empty list            O(1)    O(1)\n",
        "# creating a list with  elements    O(N)    O(N)\n",
        "# inserting a value in a list       O(N)    O(1)\n",
        "# traversing a list                 O(N)    O(1)\n",
        "# accessing a given cell in list    O(1)    O(1)\n",
        "# searching a given value in list   O(N)    O(1)\n",
        "# deleting a value from list        O(1)    O(1)"
      ],
      "metadata": {
        "id": "ZDq1mwAlaeFu"
      },
      "execution_count": null,
      "outputs": []
    },
    {
      "cell_type": "code",
      "source": [
        "# list comprehension\n",
        "l = [4,5,7,8,9,6,5,8,9]\n",
        "lc  = [i for i in l if i%2==0]\n",
        "print(lc)"
      ],
      "metadata": {
        "colab": {
          "base_uri": "https://localhost:8080/"
        },
        "id": "e19dM2qAbtqH",
        "outputId": "f04e40b9-f830-497a-fbb8-8655eb5092b5"
      },
      "execution_count": null,
      "outputs": [
        {
          "output_type": "stream",
          "name": "stdout",
          "text": [
            "[4, 8, 6, 8]\n"
          ]
        }
      ]
    },
    {
      "cell_type": "code",
      "source": [
        "# What will be the output of the following code block?\n",
        "\n",
        "arr = [1, 2, 3, 4, 5, 6]\n",
        "for i in range(1, 6):\n",
        "    arr[i - 1] = arr[i]\n",
        "for i in range(0, 6):\n",
        "    print(arr[i], end = \" \")"
      ],
      "metadata": {
        "colab": {
          "base_uri": "https://localhost:8080/"
        },
        "id": "BEgm4ZvjdsMv",
        "outputId": "80a7d9a5-f0f0-4ee8-b8f5-e5a90321b0b2"
      },
      "execution_count": null,
      "outputs": [
        {
          "output_type": "stream",
          "name": "stdout",
          "text": [
            "2 3 4 5 6 6 "
          ]
        }
      ]
    },
    {
      "cell_type": "code",
      "source": [
        "# What will be the output of the following code block?\n",
        "\n",
        "a=[1,2,3,4,5]\n",
        "print(a[3:0:-1])"
      ],
      "metadata": {
        "colab": {
          "base_uri": "https://localhost:8080/"
        },
        "id": "aA7leLYYfaRX",
        "outputId": "8375c03b-838b-4d8b-b101-9863f23a9446"
      },
      "execution_count": null,
      "outputs": [
        {
          "output_type": "stream",
          "name": "stdout",
          "text": [
            "Object `block` not found.\n",
            "[4, 3, 2]\n"
          ]
        }
      ]
    },
    {
      "cell_type": "code",
      "source": [
        "# What will be the output of the following code snippet?\n",
        "\n",
        "def f(value, values):\n",
        "    v = 1\n",
        "    values[0] = 44\n",
        "t = 3\n",
        "v = [1, 2, 3]\n",
        "f(t, v)\n",
        "print(t, v[0])"
      ],
      "metadata": {
        "colab": {
          "base_uri": "https://localhost:8080/"
        },
        "id": "iBNbtFdGfe50",
        "outputId": "b0a4050d-7bd5-4577-ef03-6a7654aef318"
      },
      "execution_count": null,
      "outputs": [
        {
          "output_type": "stream",
          "name": "stdout",
          "text": [
            "3 44\n"
          ]
        }
      ]
    },
    {
      "cell_type": "code",
      "source": [
        "# What will be the output of the following code block?\n",
        "\n",
        "fruit_list1 = ['Apple', 'Berry', 'Cherry', 'Papaya']\n",
        "fruit_list2 = fruit_list1\n",
        "fruit_list3 = fruit_list1[:]\n",
        "\n",
        "fruit_list2[0] = 'Guava'\n",
        "fruit_list3[1] = 'Kiwi'\n",
        "\n",
        "sum = 0\n",
        "for ls in (fruit_list1, fruit_list2, fruit_list3):\n",
        "    if ls[0] == 'Guava':\n",
        "        sum += 1\n",
        "    if ls[1] == 'Kiwi':\n",
        "        sum += 20\n",
        "\n",
        "print(sum)"
      ],
      "metadata": {
        "colab": {
          "base_uri": "https://localhost:8080/"
        },
        "id": "2AgyzLfCfpT8",
        "outputId": "807cacac-3d25-44d4-cbf5-0a433c33966f"
      },
      "execution_count": null,
      "outputs": [
        {
          "output_type": "stream",
          "name": "stdout",
          "text": [
            "22\n"
          ]
        }
      ]
    },
    {
      "cell_type": "code",
      "source": [
        "# What will be the output of the following code block?\n",
        "\n",
        "data = [[[1, 2], [3, 4]], [[5, 6], [7, 8]]]\n",
        "def fun(m):\n",
        "    v = m[0][0]\n",
        "\n",
        "    for row in m:\n",
        "        for element in row:\n",
        "            if v < element: v = element\n",
        "\n",
        "    return v\n",
        "print(fun(data[0]))"
      ],
      "metadata": {
        "colab": {
          "base_uri": "https://localhost:8080/"
        },
        "id": "aq8cZJlyfvQc",
        "outputId": "6c7d8916-5c4c-4f0d-cdd5-6025878141ae"
      },
      "execution_count": null,
      "outputs": [
        {
          "output_type": "stream",
          "name": "stdout",
          "text": [
            "4\n"
          ]
        }
      ]
    },
    {
      "cell_type": "code",
      "source": [
        "# What is the correct command to shuffle the following list?\n",
        "\n",
        "fruit=['apple', 'banana', 'papaya', 'cherry']\n",
        "\n",
        "# To shuffle a list in Python, you can use the shuffle() function from the random module. Here's the correct command to shuffle the fruit list:\n",
        "\n",
        "import random\n",
        "fruit = ['apple', 'banana', 'papaya', 'cherry']\n",
        "random.shuffle(fruit)\n",
        "# Now, the fruit list will be shuffled randomly. Note that the shuffle() function shuffles the list in place, meaning it modifies the original list rather than returning a new shuffled list."
      ],
      "metadata": {
        "id": "1Wj-bKYQfz8Q"
      },
      "execution_count": null,
      "outputs": []
    },
    {
      "cell_type": "code",
      "source": [
        "# What will be the output of the following code block?\n",
        "\n",
        "arr = [[1, 2, 3, 4],\n",
        "       [4, 5, 6, 7],\n",
        "       [8, 9, 10, 11],\n",
        "       [12, 13, 14, 15]]\n",
        "for i in range(0, 4):\n",
        "    print(arr[i].pop())"
      ],
      "metadata": {
        "colab": {
          "base_uri": "https://localhost:8080/"
        },
        "id": "he4W5fRuf4ix",
        "outputId": "a64b79e7-664c-4e61-b7ef-ecc5b5189d3b"
      },
      "execution_count": null,
      "outputs": [
        {
          "output_type": "stream",
          "name": "stdout",
          "text": [
            "4\n",
            "7\n",
            "11\n",
            "15\n"
          ]
        }
      ]
    },
    {
      "cell_type": "code",
      "source": [
        "# What will be the output of the following code block?\n",
        "\n",
        "a=[1,2,3,4,5,6,7,8,9]\n",
        "print(a[::2])"
      ],
      "metadata": {
        "colab": {
          "base_uri": "https://localhost:8080/"
        },
        "id": "2pfwWeMwgBL-",
        "outputId": "c5b66754-02f8-4596-b061-7079db19ea16"
      },
      "execution_count": null,
      "outputs": [
        {
          "output_type": "stream",
          "name": "stdout",
          "text": [
            "Object `block` not found.\n",
            "[1, 3, 5, 7, 9]\n"
          ]
        }
      ]
    },
    {
      "cell_type": "code",
      "source": [
        "# What will be the output of the following code block?\n",
        "\n",
        "a=[1,2,3,4,5,6,7,8,9]\n",
        "a[::2]=10,20,30,40,50,60\n",
        "print(a)"
      ],
      "metadata": {
        "colab": {
          "base_uri": "https://localhost:8080/",
          "height": 193
        },
        "id": "9mtPLGiigEuH",
        "outputId": "59d23fb9-d326-48ae-a0cc-d6f9a43b721d"
      },
      "execution_count": null,
      "outputs": [
        {
          "output_type": "error",
          "ename": "ValueError",
          "evalue": "attempt to assign sequence of size 6 to extended slice of size 5",
          "traceback": [
            "\u001b[0;31m---------------------------------------------------------------------------\u001b[0m",
            "\u001b[0;31mValueError\u001b[0m                                Traceback (most recent call last)",
            "\u001b[0;32m<ipython-input-21-4bab11aa9086>\u001b[0m in \u001b[0;36m<cell line: 4>\u001b[0;34m()\u001b[0m\n\u001b[1;32m      2\u001b[0m \u001b[0;34m\u001b[0m\u001b[0m\n\u001b[1;32m      3\u001b[0m \u001b[0ma\u001b[0m\u001b[0;34m=\u001b[0m\u001b[0;34m[\u001b[0m\u001b[0;36m1\u001b[0m\u001b[0;34m,\u001b[0m\u001b[0;36m2\u001b[0m\u001b[0;34m,\u001b[0m\u001b[0;36m3\u001b[0m\u001b[0;34m,\u001b[0m\u001b[0;36m4\u001b[0m\u001b[0;34m,\u001b[0m\u001b[0;36m5\u001b[0m\u001b[0;34m,\u001b[0m\u001b[0;36m6\u001b[0m\u001b[0;34m,\u001b[0m\u001b[0;36m7\u001b[0m\u001b[0;34m,\u001b[0m\u001b[0;36m8\u001b[0m\u001b[0;34m,\u001b[0m\u001b[0;36m9\u001b[0m\u001b[0;34m]\u001b[0m\u001b[0;34m\u001b[0m\u001b[0;34m\u001b[0m\u001b[0m\n\u001b[0;32m----> 4\u001b[0;31m \u001b[0ma\u001b[0m\u001b[0;34m[\u001b[0m\u001b[0;34m:\u001b[0m\u001b[0;34m:\u001b[0m\u001b[0;36m2\u001b[0m\u001b[0;34m]\u001b[0m\u001b[0;34m=\u001b[0m\u001b[0;36m10\u001b[0m\u001b[0;34m,\u001b[0m\u001b[0;36m20\u001b[0m\u001b[0;34m,\u001b[0m\u001b[0;36m30\u001b[0m\u001b[0;34m,\u001b[0m\u001b[0;36m40\u001b[0m\u001b[0;34m,\u001b[0m\u001b[0;36m50\u001b[0m\u001b[0;34m,\u001b[0m\u001b[0;36m60\u001b[0m\u001b[0;34m\u001b[0m\u001b[0;34m\u001b[0m\u001b[0m\n\u001b[0m\u001b[1;32m      5\u001b[0m \u001b[0mprint\u001b[0m\u001b[0;34m(\u001b[0m\u001b[0ma\u001b[0m\u001b[0;34m)\u001b[0m\u001b[0;34m\u001b[0m\u001b[0;34m\u001b[0m\u001b[0m\n",
            "\u001b[0;31mValueError\u001b[0m: attempt to assign sequence of size 6 to extended slice of size 5"
          ]
        }
      ]
    },
    {
      "cell_type": "code",
      "source": [
        "# find the no of days above average temperature?\n",
        "\n",
        "numDays = int(input(\"Enter the How Many Day's Temperature? \"))\n",
        "total = 0\n",
        "temp = []\n",
        "for i in range(1, numDays+1):\n",
        "  nextDay = int(input(\"Day \" + str(i) + \"'s high temperature: \"))\n",
        "  temp.append(nextDay)\n",
        "  total += temp[i-1]\n",
        "\n",
        "avg = round(total/numDays,2)\n",
        "print(\"\\naverage = \"+str(avg))\n",
        "\n",
        "above = 0\n",
        "for i in temp:\n",
        "  if i>avg:\n",
        "    above += 1\n",
        "print(str(above) + \" day(s) above average\")\n"
      ],
      "metadata": {
        "colab": {
          "base_uri": "https://localhost:8080/"
        },
        "id": "p4azqbsHgKR6",
        "outputId": "895f5098-b2db-42b2-83c7-6d7b3bc82a73"
      },
      "execution_count": null,
      "outputs": [
        {
          "output_type": "stream",
          "name": "stdout",
          "text": [
            "Enter the How Many Day's Temperature? 4\n",
            "Day 1's high temperature: 20\n",
            "Day 2's high temperature: 21\n",
            "Day 3's high temperature: 50\n",
            "Day 4's high temperature: 0\n",
            "\n",
            "average = 22.75\n",
            "1 day(s) above average\n"
          ]
        }
      ]
    },
    {
      "cell_type": "code",
      "source": [
        "# Missing Number\n",
        "# Write a function to find the missing number in a given integer array of 1 to 100.\n",
        "# The function takes to parameter the array and the number of elements that needs to be in array.\n",
        "# For example if we want to find missing number from 1 to 6 the second parameter will be 6.\n",
        "# Example\n",
        "# missing_number([1, 2, 3, 4, 6], 6) # 5\n",
        "\n",
        "def missing_number(arr, n):\n",
        "    # Calculate the sum of the expected sequence from 1 to n\n",
        "    expected_sum = n * (n + 1) // 2\n",
        "\n",
        "    # Calculate the sum of the elements in the array\n",
        "    actual_sum = sum(arr)\n",
        "\n",
        "    # The difference between the expected sum and the actual sum is the missing number\n",
        "    missing_num = expected_sum - actual_sum\n",
        "\n",
        "    return missing_num\n",
        "\n",
        "# Example usage:\n",
        "result = missing_number([1, 2, 3, 4, 6], 6)\n",
        "print(result)  # Output: 5\n",
        "\n",
        "\n"
      ],
      "metadata": {
        "colab": {
          "base_uri": "https://localhost:8080/"
        },
        "id": "F4f72F47DYPI",
        "outputId": "db7dc753-212f-4f4f-a545-47c505130a8b"
      },
      "execution_count": null,
      "outputs": [
        {
          "output_type": "stream",
          "name": "stdout",
          "text": [
            "5\n"
          ]
        }
      ]
    },
    {
      "cell_type": "code",
      "source": [
        "# Write a program to find all pairs of integers whose sum is equal to a given number?\n",
        "\n",
        "def findPairs(arr,target):\n",
        "  for i in range(len(arr)):\n",
        "    for j in range(i+1,len(arr)):\n",
        "      if arr[i]==arr[j]:\n",
        "        continue\n",
        "      elif arr[i]+arr[j]==target:\n",
        "        print(i,j)\n",
        "findPairs([1,2,3,2,4,3,6],6)\n"
      ],
      "metadata": {
        "colab": {
          "base_uri": "https://localhost:8080/"
        },
        "id": "QIaAJBeAQ_n4",
        "outputId": "a13280f2-4e3f-4dc8-b2cb-3862e7206254"
      },
      "execution_count": null,
      "outputs": [
        {
          "output_type": "stream",
          "name": "stdout",
          "text": [
            "1 4\n",
            "3 4\n"
          ]
        }
      ]
    },
    {
      "cell_type": "code",
      "source": [
        "# finding a number in an array\n",
        "import numpy as np\n",
        "\n",
        "def findNumber(array,number):\n",
        "  for i in range(len(array)):\n",
        "    if array[i]==number:\n",
        "      print(\"found ar index position: \",i)\n",
        "findNumber([1,2,3,4,5,6,7,8,9,10,11,12,13,14,15,16,17,18,19,20],20)\n",
        "\n",
        "\n"
      ],
      "metadata": {
        "colab": {
          "base_uri": "https://localhost:8080/"
        },
        "id": "EHzI5OS8JOa_",
        "outputId": "216403e3-ac9d-4dbd-d400-1d675582a8fa"
      },
      "execution_count": null,
      "outputs": [
        {
          "output_type": "stream",
          "name": "stdout",
          "text": [
            "found ar index position:  19\n"
          ]
        }
      ]
    },
    {
      "cell_type": "code",
      "source": [
        "# Max Product of Two Integers\n",
        "# Find the maximum product of two integers in an array where all elements are positive.\n",
        "# Example\n",
        "# arr = [1, 7, 3, 4, 9, 5]\n",
        "# max_product(arr) # Output: 63 (9*7)\n",
        "\n",
        "def max_product(arr):\n",
        "    # Initialize two variables to store the two largest numbers\n",
        "    max1, max2 = 0, 0  # O(1), constant time initialization\n",
        "\n",
        "    # Iterate through the array\n",
        "    for num in arr:  # O(n), where n is the length of the array\n",
        "        # If the current number is greater than max1, update max1 and max2\n",
        "        if num > max1:  # O(1), constant time comparison\n",
        "            max2 = max1  # O(1), constant time assignment\n",
        "            max1 = num  # O(1), constant time assignment\n",
        "        # If the current number is greater than max2 but not max1, update max2\n",
        "        elif num > max2:  # O(1), constant time comparison\n",
        "            max2 = num  # O(1), constant time assignment\n",
        "\n",
        "    # Return the product of the two largest numbers\n",
        "    return max1 * max2  # O(1), constant time multiplication\n",
        "\n",
        "arr = [1, 7, 3, 4, 9, 5]\n",
        "print(max_product(arr))  # Output: 63 (9*7)\n",
        "\n"
      ],
      "metadata": {
        "colab": {
          "base_uri": "https://localhost:8080/"
        },
        "id": "-0unt5eajSfW",
        "outputId": "2c0976c0-a1e9-41e6-a01a-de10876b2729"
      },
      "execution_count": null,
      "outputs": [
        {
          "output_type": "stream",
          "name": "stdout",
          "text": [
            "63\n"
          ]
        }
      ]
    },
    {
      "cell_type": "code",
      "source": [
        "# Middle Function\n",
        "# Write a function called middle that takes a list and returns a new list that contains all but the first and last elements.\n",
        "\n",
        "# myList = [1, 2, 3, 4]\n",
        "# middle(myList)  # [2,3]\n",
        "\n",
        "def middle(lst):\n",
        "    # Return a new list containing all elements from the original list, excluding the first and last elements\n",
        "    return lst[1:-1]\n",
        "\n",
        "myList = [1, 2, 3, 4]\n",
        "\n",
        "print(middle(myList))"
      ],
      "metadata": {
        "colab": {
          "base_uri": "https://localhost:8080/"
        },
        "id": "wZPs9LzTkL4H",
        "outputId": "c4767b94-1e6f-41d3-85a1-9a8e616bdfb7"
      },
      "execution_count": null,
      "outputs": [
        {
          "output_type": "stream",
          "name": "stdout",
          "text": [
            "[2, 3]\n"
          ]
        }
      ]
    },
    {
      "cell_type": "code",
      "source": [
        "# 2D Lists\n",
        "# Given 2D list calculate the sum of diagonal elements.\n",
        "# Example\n",
        "# myList2D= [[1,2,3],[4,5,6],[7,8,9]]\n",
        "# diagonal_sum(myList2D) # 15\n",
        "\n",
        "def diagonal_sum(matrix):\n",
        "    d_sum = 0\n",
        "    for i in range(len(matrix)):\n",
        "        d_sum +=matrix[i][i]\n",
        "    return d_sum\n",
        "diagonal_sum([[1,2,3],[4,5,6],[7,8,9]])\n",
        "\n"
      ],
      "metadata": {
        "colab": {
          "base_uri": "https://localhost:8080/"
        },
        "id": "E12J7H6ht48o",
        "outputId": "8a871823-5e10-4caa-8dbf-7d75a5ec1894"
      },
      "execution_count": null,
      "outputs": [
        {
          "output_type": "execute_result",
          "data": {
            "text/plain": [
              "15"
            ]
          },
          "metadata": {},
          "execution_count": 6
        }
      ]
    },
    {
      "cell_type": "code",
      "source": [
        "# Best Score\n",
        "# Given a list, write a function to get first, second best scores from the list.\n",
        "\n",
        "# List may contain duplicates.\n",
        "\n",
        "# Example\n",
        "\n",
        "# myList = [84,85,86,87,85,90,85,83,23,45,84,1,2,0]\n",
        "# first_second(myList) # 90 87\n",
        "\n",
        "def first_second(my_list):\n",
        "    max1, max2 = float('-inf'), float('-inf')\n",
        "\n",
        "    for num in my_list:\n",
        "        if num > max1:\n",
        "            max2 = max1\n",
        "            max1 = num\n",
        "        elif num > max2 and num != max1:\n",
        "            max2 = num\n",
        "\n",
        "    return max1, max2\n",
        "\n",
        "my_list = [84, 85, 86, 87, 85, 90, 85, 83, 23, 45, 84, 1, 2, 0]\n",
        "print(first_second(my_list))  # Output: (90, 87)"
      ],
      "metadata": {
        "id": "fzJio2wPvrzF",
        "colab": {
          "base_uri": "https://localhost:8080/"
        },
        "outputId": "1e6bf7be-defa-45c2-91fc-8e2a107c28a2"
      },
      "execution_count": null,
      "outputs": [
        {
          "output_type": "stream",
          "name": "stdout",
          "text": [
            "(90, 87)\n"
          ]
        }
      ]
    },
    {
      "cell_type": "code",
      "source": [
        "# Duplicate Number\n",
        "# Write a function to remove the duplicate numbers on given integer array/list.\n",
        "\n",
        "# Example\n",
        "\n",
        "# remove_duplicates([1, 1, 2, 2, 3, 4, 5])\n",
        "# Output : [1, 2, 3, 4, 5]\n",
        "\n",
        "def remove_duplicates(lst):\n",
        "    unique_lst = []\n",
        "    seen = set()\n",
        "    for item in lst:\n",
        "        if item not in seen:\n",
        "            unique_lst.append(item)\n",
        "            seen.add(item)\n",
        "    return unique_lst\n",
        "\n",
        "my_list = [1, 1, 2, 2, 3, 4, 5]\n",
        "print(remove_duplicates(my_list))  # Output: [1, 2, 3, 4, 5]"
      ],
      "metadata": {
        "colab": {
          "base_uri": "https://localhost:8080/"
        },
        "id": "GSA0DWSwh-6v",
        "outputId": "25d8d9f7-5e5e-4f7e-992f-7737a3b0cb01"
      },
      "execution_count": null,
      "outputs": [
        {
          "output_type": "stream",
          "name": "stdout",
          "text": [
            "[1, 2, 3, 4, 5]\n"
          ]
        }
      ]
    },
    {
      "cell_type": "code",
      "source": [
        "# Pairs\n",
        "# Write a function to find all pairs of an integer array whose sum is equal to a given number. Do not consider commutative pairs.\n",
        "\n",
        "# Example\n",
        "\n",
        "# pair_sum([2, 4, 3, 5, 6, -2, 4, 7, 8, 9],7)\n",
        "# Output : ['2+5', '4+3', '3+4', '-2+9']\n",
        "\n",
        "\n",
        "# Note:\n",
        "\n",
        "# 4+3 comes from second and third elements from the main list.\n",
        "\n",
        "# 3+4 comes from third and seventh elements from the main list.\n",
        "\n",
        "def pair_sum(arr, target_sum):\n",
        "    result = []\n",
        "    for i in range(len(arr)):\n",
        "        for j in range(i+1, len(arr)):\n",
        "            if arr[i] + arr[j] == target_sum:\n",
        "                result.append(f\"{arr[i]}+{arr[j]}\")\n",
        "    return result\n",
        "\n",
        "arr = [2, 4, 3, 5, 6, -2, 4, 7, 8, 9]\n",
        "target_sum = 7\n",
        "print(pair_sum(arr, target_sum))  # Output: ['2+5', '4+3', '3+4', '-2+9']"
      ],
      "metadata": {
        "colab": {
          "base_uri": "https://localhost:8080/"
        },
        "id": "npTOulx3jnK7",
        "outputId": "528f7ffb-100e-43a4-8aae-a396000245d2"
      },
      "execution_count": null,
      "outputs": [
        {
          "output_type": "stream",
          "name": "stdout",
          "text": [
            "['2+5', '4+3', '3+4', '-2+9']\n"
          ]
        }
      ]
    },
    {
      "cell_type": "code",
      "source": [
        "# Contains Duplicate\n",
        "# Given an integer array nums, return true if any value appears at least twice in the array, and return false if every element is distinct.\n",
        "\n",
        "# Example :\n",
        "\n",
        "# Input: nums = [1,2,3,1]\n",
        "# Output: true\n",
        "# Hint: Use sets\n",
        "\n",
        "def contains_duplicate(nums):\n",
        "    seen = set()\n",
        "    for num in nums:\n",
        "        if num in seen:\n",
        "            return True\n",
        "        seen.add(num)\n",
        "    return False\n",
        "\n",
        "# Example usage\n",
        "nums = [1, 2, 3, 4, 5, 6, 7, 8, 9, 1]\n",
        "print(contains_duplicate(nums))  # Output: True"
      ],
      "metadata": {
        "colab": {
          "base_uri": "https://localhost:8080/"
        },
        "id": "jRKKgd2GnrWy",
        "outputId": "d3d5e7ac-23cb-4e01-d55d-e34d4b0ced82"
      },
      "execution_count": null,
      "outputs": [
        {
          "output_type": "stream",
          "name": "stdout",
          "text": [
            "True\n"
          ]
        }
      ]
    },
    {
      "cell_type": "code",
      "source": [
        "def permutation(list1, list2):\n",
        "  if len(list1) != len(list2):\n",
        "    return False\n",
        "  list1.sort()\n",
        "  list2.sort()\n",
        "  if list1==list2:\n",
        "    return True\n",
        "  else:\n",
        "    return False\n",
        "# list1 = [1,2,3]\n",
        "# list2 = [1,3,2]\n",
        "list1 = [\"c\",\"a\",\"b\"]\n",
        "list2 = [\"a\",\"c\",\"b\"]\n",
        "permutation(list1,list2)"
      ],
      "metadata": {
        "id": "tF1WAxdrpr_v",
        "colab": {
          "base_uri": "https://localhost:8080/"
        },
        "outputId": "48b9a00c-4f0a-4cc1-f0c7-7a8084f603b2"
      },
      "execution_count": 2,
      "outputs": [
        {
          "output_type": "execute_result",
          "data": {
            "text/plain": [
              "True"
            ]
          },
          "metadata": {},
          "execution_count": 2
        }
      ]
    },
    {
      "cell_type": "code",
      "source": [
        "# Rotate Matrix/ Image - LeetCode 48\n",
        "# You are given an n x n 2D matrix representing an image, rotate the image by 90 degrees (clockwise).\n",
        "\n",
        "# You have to rotate the image in-place, which means you have to modify the input 2D matrix directly.\n",
        "\n",
        "# DO NOT allocate another 2D matrix and do the rotation.\n",
        "\n",
        "# Example:\n",
        "\n",
        "\n",
        "# Input: matrix = [[1,2,3],[4,5,6],[7,8,9]]\n",
        "# Output: [[7,4,1],[8,5,2],[9,6,3]]\n",
        "\n",
        "def rotate(matrix):\n",
        "    n = len(matrix)\n",
        "\n",
        "    # Transpose the matrix\n",
        "    for i in range(n):  # Iterate over the rows\n",
        "        for j in range(i, n):  # Iterate over the columns starting from the current row 'i'\n",
        "            # Swap the elements at positions (i, j) and (j, i)\n",
        "            matrix[i][j], matrix[j][i] = matrix[j][i], matrix[i][j]\n",
        "\n",
        "    # Reverse each row\n",
        "    for row in matrix:  # Iterate over each row in the matrix\n",
        "        row.reverse()  # Reverse the elements in the current row\n",
        "    print(matrix)\n",
        "rotate([[1,2,3],[4,5,6],[7,8,9]])\n",
        "\n",
        "\n"
      ],
      "metadata": {
        "colab": {
          "base_uri": "https://localhost:8080/"
        },
        "id": "xunLbsP3mnvT",
        "outputId": "b3505516-e48c-45cb-8adc-90f7fe293b3b"
      },
      "execution_count": 29,
      "outputs": [
        {
          "output_type": "stream",
          "name": "stdout",
          "text": [
            "[[7, 4, 1], [8, 5, 2], [9, 6, 3]]\n"
          ]
        }
      ]
    },
    {
      "cell_type": "code",
      "source": [
        "# What is the runtime of the below code?\n",
        "def foo(array):\n",
        "  sum = 0   #---------------------O(1)\n",
        "  product = 1  #---------------------O(1)\n",
        "\n",
        "  for i in array:  #---------------------O(n)\n",
        "    sum += i       #---------------------O(1)\n",
        "\n",
        "  for i in array:   #---------------------O(n)\n",
        "    product *= i    #---------------------O(1)\n",
        "  print(\"Sum = \"+str(sum)+\", product = \"+str(product)) #---------------------O(1)\n",
        "\n",
        "  # Time Complexity ----- O(N)"
      ],
      "metadata": {
        "id": "xQBsQkgk5M1N"
      },
      "execution_count": 30,
      "outputs": []
    },
    {
      "cell_type": "code",
      "source": [
        "def printPairs(array):\n",
        "  for i in array:   #--------------O(n^2)\n",
        "    for j in array: #--------------O(n)\n",
        "      print(str(i)+\",\"+str(j)) #--------------O(1)\n",
        "  # Time Complexity -- O(n^2)\n"
      ],
      "metadata": {
        "id": "zqY2MdDXqAER"
      },
      "execution_count": 31,
      "outputs": []
    },
    {
      "cell_type": "code",
      "source": [
        "# print unordered pairs\n",
        "def printUnorderedPairs(array):\n",
        "  for i in range(0,len(array)):\n",
        "    for j in range(i+1,len(array)):\n",
        "      print(array[i],\",\",array[j])\n",
        "\n",
        "# Method 1:\n",
        "# 1st----------------- n-1\n",
        "# 2nd----------------- n-2\n",
        "# ------------------------\n",
        "# ------------------------\n",
        "#           1\n",
        "#  = (n-1)+(n-2)+(n-3)+-------+2+1\n",
        "#  = 1+2+3+-------+(n-3)+(n-2)+(n-1)\n",
        "\n",
        "#  = n(n-1)/2\n",
        "\n",
        "#  = n^2/2-n/2\n",
        "\n",
        "#  = n^2\n",
        "# Time Complexity O(n^2)\n",
        "\n",
        "#\n",
        "\n",
        "# Method 2:\n",
        "# Outer Loop --- N times\n",
        "# Inner Loop --- ?\n",
        "# 1st--------------10\n",
        "# 2nd--------------9\n",
        "# ---------------\n",
        "# -----------------\n",
        "#        1\n",
        "\n",
        "# 5-----------> 10/2\n",
        "# n-----------> n/2\n",
        "# -----------------\n",
        "# -----------------\n",
        "#        1\n",
        "\n",
        "# n(n/2) = n^2/2 -------- O(n^2)"
      ],
      "metadata": {
        "id": "hXkTzWcXqVTg"
      },
      "execution_count": 32,
      "outputs": []
    },
    {
      "cell_type": "code",
      "source": [
        "def printUnorderedPairs(arrayA,arrayB):\n",
        "  for i in range(len(arrayA)):\n",
        "    for j in range(len(arrayB)):\n",
        "      if arrayA[i] < arrayB[j]:\n",
        "        print(str(arrayA[i])+\",\"+str(arrayB[j]))\n",
        "\n",
        "# here b = len(arrayB)\n",
        "# here a = len(arrayA)\n",
        "# Time Complexity : O(ab)\n"
      ],
      "metadata": {
        "id": "HHjbMCSs8tpn"
      },
      "execution_count": 33,
      "outputs": []
    },
    {
      "cell_type": "code",
      "source": [
        "def printUnorderedPairs(arrayA,arrayB):\n",
        "  for i in range(len(arrayA)):     #----------------O(a)\n",
        "    for j in range(len(arrayB)):   #----------------O(b)\n",
        "      for k in range(0,100000):    #----------------O(1)\n",
        "        print(str(arrayA[i])+\",\"+str(arrayB[j]))  #----------------O(1)\n",
        "# Time Complexity: O(ab)"
      ],
      "metadata": {
        "id": "3kzWRobIBTsc"
      },
      "execution_count": 35,
      "outputs": []
    },
    {
      "cell_type": "code",
      "source": [
        "def reverse(array):\n",
        "  for i in range(0,int(len(array)/2)):   #-------------O(N/2)-----O(N)\n",
        "    other = len(array)-i-1               #-------------O(1)\n",
        "    temp = array[i]                      #-------------O(1)\n",
        "    array[i] = array[other]              #-------------O(1)\n",
        "    array[other] = temp                  #-------------O(1)\n",
        "print([7, 4, 1,8, 5, 2,9, 6, 3])\n",
        "# Time Complexity-----O(N)"
      ],
      "metadata": {
        "colab": {
          "base_uri": "https://localhost:8080/"
        },
        "id": "gpOravRiCnzW",
        "outputId": "be1d63ac-c487-4142-93f2-3518174bba30"
      },
      "execution_count": 39,
      "outputs": [
        {
          "output_type": "stream",
          "name": "stdout",
          "text": [
            "[7, 4, 1, 8, 5, 2, 9, 6, 3]\n"
          ]
        }
      ]
    },
    {
      "cell_type": "code",
      "source": [
        "# O(N+P), Where P<N/2 #---------------->O(N)\n",
        "# O(2N) --------------------> O(N)\n",
        "# O(N + log N)  -------------> O(N)\n",
        "# O(N + NlogN)  -------------> O(NlogN)\n",
        "# O(N+M)"
      ],
      "metadata": {
        "id": "y6RyFenBEC_Q"
      },
      "execution_count": null,
      "outputs": []
    }
  ]
}