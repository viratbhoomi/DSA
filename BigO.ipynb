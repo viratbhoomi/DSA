{
  "nbformat": 4,
  "nbformat_minor": 0,
  "metadata": {
    "colab": {
      "provenance": [],
      "authorship_tag": "ABX9TyPNbxCMqYgjo7GPqbTxj/ds",
      "include_colab_link": true
    },
    "kernelspec": {
      "name": "python3",
      "display_name": "Python 3"
    },
    "language_info": {
      "name": "python"
    }
  },
  "cells": [
    {
      "cell_type": "markdown",
      "metadata": {
        "id": "view-in-github",
        "colab_type": "text"
      },
      "source": [
        "<a href=\"https://colab.research.google.com/github/viratbhoomi/DSA/blob/main/BigO.ipynb\" target=\"_parent\"><img src=\"https://colab.research.google.com/assets/colab-badge.svg\" alt=\"Open In Colab\"/></a>"
      ]
    },
    {
      "cell_type": "code",
      "execution_count": 2,
      "metadata": {
        "colab": {
          "base_uri": "https://localhost:8080/"
        },
        "id": "YmXWCcOLO2Wj",
        "outputId": "7d4b27cc-cf20-4524-cb3c-b826491a7a10"
      },
      "outputs": [
        {
          "output_type": "execute_result",
          "data": {
            "text/plain": [
              "25"
            ]
          },
          "metadata": {},
          "execution_count": 2
        }
      ],
      "source": [
        "# Time complexity is O(1), Here the no of operations are only 1. Hence the Time Complexity is O(1).\n",
        "\n",
        "def product(n):\n",
        "  return n*n\n",
        "product(5)"
      ]
    },
    {
      "cell_type": "code",
      "source": [
        "# Time Complexity is O(n), Here the no of operations are n. if the value of n increases the operations in the loop will also increases.\n",
        "# It is increasing linearly.\n",
        "# if you need to pick a particular random card from the deck of cards it would take O(n) time complexity.\n",
        "\n",
        "def print_items(n):\n",
        "  for i in range(n):\n",
        "    print(i)\n",
        "print_items(5)\n",
        "print()\n",
        "print_items(10)\n",
        "print()\n",
        "print_items(15)\n"
      ],
      "metadata": {
        "colab": {
          "base_uri": "https://localhost:8080/"
        },
        "id": "uxgBPqA_Pfe_",
        "outputId": "0c0c7452-1951-468e-889e-0cfb3575add0"
      },
      "execution_count": 8,
      "outputs": [
        {
          "output_type": "stream",
          "name": "stdout",
          "text": [
            "0\n",
            "1\n",
            "2\n",
            "3\n",
            "4\n",
            "\n",
            "0\n",
            "1\n",
            "2\n",
            "3\n",
            "4\n",
            "5\n",
            "6\n",
            "7\n",
            "8\n",
            "9\n",
            "\n",
            "0\n",
            "1\n",
            "2\n",
            "3\n",
            "4\n",
            "5\n",
            "6\n",
            "7\n",
            "8\n",
            "9\n",
            "10\n",
            "11\n",
            "12\n",
            "13\n",
            "14\n"
          ]
        }
      ]
    },
    {
      "cell_type": "code",
      "source": [
        "# Drop constatns in Big O\n",
        "# Here the time complexity is O(n)+O(n) equals to O(2n), to simplify the Big O notation dropping the constant is recommended\n",
        "# by using the asymptotic analysis dropping the constants may increase the efficiency of the algorithm.\n",
        "\n",
        "def print_items(n):\n",
        "  for i in range(n):\n",
        "    print(i)\n",
        "  for j in range(n):\n",
        "    print(j)\n",
        "print_items(5)\n"
      ],
      "metadata": {
        "colab": {
          "base_uri": "https://localhost:8080/"
        },
        "id": "yMA-WOYWQEer",
        "outputId": "4a44a926-6196-419d-c9d1-d9dd816b2b0e"
      },
      "execution_count": 9,
      "outputs": [
        {
          "output_type": "stream",
          "name": "stdout",
          "text": [
            "0\n",
            "1\n",
            "2\n",
            "3\n",
            "4\n",
            "0\n",
            "1\n",
            "2\n",
            "3\n",
            "4\n"
          ]
        }
      ]
    },
    {
      "cell_type": "code",
      "source": [
        "# Here the first loop runs with O(n) time complexity and the second loop runs with O(n) time complexity.\n",
        "# if we multiply the both time complexities it is going to be n*n=n^2\n",
        "# so the time complexity is going to be O(n^2), it can be called as quadratic time complexity.\n",
        "# example: picking card number 3  from each set of cards\n",
        "def print_items(n):\n",
        "  for i in range(n):\n",
        "    for j in range(n):\n",
        "      print(i,j)\n",
        "print_items(5)\n",
        "# eventhough the power increases we can still write it as O(n^2) time complexity, below code runs O(n^3) times but we can still write it as O(n^2).\n",
        "# when we have the time complexity  increases quadratically it is going to be inefficient code.\n",
        "\n",
        "def print_items(n):\n",
        "  for i in range(n):\n",
        "    for j in range(n):\n",
        "      for k in range(n):\n",
        "        print(i,j,k)\n",
        "print_items(3)"
      ],
      "metadata": {
        "colab": {
          "base_uri": "https://localhost:8080/"
        },
        "id": "CMNoEaZjXwOV",
        "outputId": "df4147ab-5996-4bdd-f295-f67745be26d6"
      },
      "execution_count": 13,
      "outputs": [
        {
          "output_type": "stream",
          "name": "stdout",
          "text": [
            "0 0\n",
            "0 1\n",
            "0 2\n",
            "0 3\n",
            "0 4\n",
            "1 0\n",
            "1 1\n",
            "1 2\n",
            "1 3\n",
            "1 4\n",
            "2 0\n",
            "2 1\n",
            "2 2\n",
            "2 3\n",
            "2 4\n",
            "3 0\n",
            "3 1\n",
            "3 2\n",
            "3 3\n",
            "3 4\n",
            "4 0\n",
            "4 1\n",
            "4 2\n",
            "4 3\n",
            "4 4\n",
            "0 0 0\n",
            "0 0 1\n",
            "0 0 2\n",
            "0 1 0\n",
            "0 1 1\n",
            "0 1 2\n",
            "0 2 0\n",
            "0 2 1\n",
            "0 2 2\n",
            "1 0 0\n",
            "1 0 1\n",
            "1 0 2\n",
            "1 1 0\n",
            "1 1 1\n",
            "1 1 2\n",
            "1 2 0\n",
            "1 2 1\n",
            "1 2 2\n",
            "2 0 0\n",
            "2 0 1\n",
            "2 0 2\n",
            "2 1 0\n",
            "2 1 1\n",
            "2 1 2\n",
            "2 2 0\n",
            "2 2 1\n",
            "2 2 2\n"
          ]
        }
      ]
    },
    {
      "cell_type": "code",
      "source": [
        "# Dropping non dominant terms.\n",
        "# here the time complexity of both loops are O(n^2) + O(n) = O(n^2+n)\n",
        "# here the one which is the highest is called as dominent term and the other is called as non dominent term\n",
        "# so by removing the non dominent term is not going to affect the no of operations, the time complexity is O(n^2)\n",
        "\n",
        "def print_items(n):\n",
        "  for i in range(n):\n",
        "    for j in range(n):\n",
        "      print(i,j)\n",
        "  for k in range(n):\n",
        "    print(k)\n",
        "print_items(3)"
      ],
      "metadata": {
        "colab": {
          "base_uri": "https://localhost:8080/"
        },
        "id": "npUPhl48ZElV",
        "outputId": "f1b68a75-586f-49ac-eb79-de2a90828565"
      },
      "execution_count": 15,
      "outputs": [
        {
          "output_type": "stream",
          "name": "stdout",
          "text": [
            "0 0\n",
            "0 1\n",
            "0 2\n",
            "1 0\n",
            "1 1\n",
            "1 2\n",
            "2 0\n",
            "2 1\n",
            "2 2\n",
            "0\n",
            "1\n",
            "2\n"
          ]
        }
      ]
    },
    {
      "cell_type": "code",
      "source": [
        "# Big O - O(log N)\n",
        "# the efficient way of finding a number in a sorted array is by using the divide and conquer technique.\n",
        "# suppose an array consists of 8 elements, I need to find element 1 from the sorted array,\n",
        "# we need to find no of steps took to find the element of that array?\n",
        "# log2^8 = tot no of steps took to find the element of the sorted array.\n"
      ],
      "metadata": {
        "id": "2Wf9VyN7dS5c"
      },
      "execution_count": 16,
      "outputs": []
    },
    {
      "cell_type": "code",
      "source": [
        "# space complexity\n",
        "# space complexity is the parallel concept to the time complexity, It defines the amount of memory or the space required by the algorithm.\n",
        "# space complexity is the measure of amount of the working storage that an algorithm needs.\n",
        "# i.e, how much memory in the worst case is needed at any point in the algorithm\n",
        "\n",
        "# below function is recursive the value of the each function will be stored in the stack memory the space complexity is O(n).\n",
        "def sum(n):\n",
        "  if n<=0:\n",
        "    return 0\n",
        "  return n + sum(n-1)\n",
        "sum(3)\n",
        "# in this function the pair_sum function value is not stored in the stack memory the space complexity for this function is O(1).\n",
        "def pair_sum_sequence(n):\n",
        "  total = 0\n",
        "  for i in range(n):\n",
        "    total = total+pair_sum(i,i+1)\n",
        "  return total\n",
        "def pair_sum(a,b):\n",
        "  return a+b\n",
        "pair_sum_sequence(4)"
      ],
      "metadata": {
        "colab": {
          "base_uri": "https://localhost:8080/"
        },
        "id": "Xce0mYVNgNTN",
        "outputId": "0e4821ab-097b-497f-9c41-fb4ca29d2648"
      },
      "execution_count": 21,
      "outputs": [
        {
          "output_type": "execute_result",
          "data": {
            "text/plain": [
              "16"
            ]
          },
          "metadata": {},
          "execution_count": 21
        }
      ]
    },
    {
      "cell_type": "code",
      "source": [
        "# Different terms for input - add vs multiply\n",
        "\n",
        "# if your algorithm is in the form \"Do this, then when you all are done, do that\" then you add the runtimes.\n",
        "# here the time complexity is going to be O(a+b)\n",
        "def print_items(a,b):\n",
        "  for i in range(a):\n",
        "    print(i)\n",
        "  for j in range(b):\n",
        "    print(j)\n",
        "\n",
        "# if your algorithm is in the  form \"Do this for each time you do that\" then you multiply the runtimes.\n",
        "# here the time complexity is going to be O(a*b)\n",
        "def print_items(a,b):\n",
        "  for i in range(a):\n",
        "    for j in range(b):\n",
        "      print(i,j)\n",
        "\n"
      ],
      "metadata": {
        "id": "B95GCfuGiNlY"
      },
      "execution_count": 22,
      "outputs": []
    },
    {
      "cell_type": "code",
      "source": [
        "# rule 1: any assignments and if statements that are executed once regardless of the size of the problem - O(1)\n",
        "# rule 2: a simple for loop from 0 to n (with no internal loops) - O(n)\n",
        "# rule 3: a nested loop of the same type takes quadratic time complexity - O(n^2)\n",
        "# rule 4: a loop in which a controlling parameter is divided by 2 at each step - O(log n)\n",
        "# rule 5: when dealing with multiple statements just add them up\n",
        "\n",
        "def findBiggestNumber(sampleArray):\n",
        "  # the complexity of assigning a value to a variable is O(1)\n",
        "  biggestNumber = sampleArray[0]\n",
        "  # the complexity for a simple for loop is O(n)\n",
        "  for index in range(1,len(sampleArray)):\n",
        "    # the complexity of if statement is O(1)\n",
        "    if sampleArray[index]>biggestNumber:\n",
        "      # the complexity of assigning a value to a variable is O(1)\n",
        "      biggestNumber=sampleArray[index]\n",
        "      # the print statement will take constant time complexity as well O(1)\n",
        "  print(biggestNumber)\n",
        "# after removing the non dominent terms we can get the time complexity as O(n)\n"
      ],
      "metadata": {
        "id": "tGbQA29otblf"
      },
      "execution_count": 23,
      "outputs": []
    },
    {
      "cell_type": "code",
      "source": [
        "# What is the time complexity of the following Python code snippet?\n",
        "sum = 0\n",
        "for i in range(n):\n",
        "  for j in range(n):\n",
        "    sum += i * j\n",
        "# The outer loop iterates 'n' times, and the inner loop also iterates 'n' times. The overall time complexity is O(n * n) = O(n^2).\n",
        "\n",
        "\n",
        "# What is the time complexity of the following Python code snippet?\n",
        "sum = 0\n",
        "i = 1\n",
        "while i <= n:\n",
        "    sum += i\n",
        "    i *= 2\n",
        "# The loop iterates 'log n' times, as 'i' is multiplied by 2 in each iteration. The time complexity is O(log n).\n",
        "\n",
        "\n",
        "\n",
        "# What is the time complexity of the following Python code snippet?\n",
        "sum = 0\n",
        "for i in range(n):\n",
        "    for j in range(m):\n",
        "        sum += i * j\n",
        "# The outer loop iterates 'n' times, and the inner loop iterates 'm' times. The overall time complexity is O(n * m).\n",
        "\n"
      ],
      "metadata": {
        "id": "gtdXQuEqxNxy"
      },
      "execution_count": null,
      "outputs": []
    }
  ]
}