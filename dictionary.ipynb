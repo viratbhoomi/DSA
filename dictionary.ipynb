{
  "nbformat": 4,
  "nbformat_minor": 0,
  "metadata": {
    "colab": {
      "provenance": [],
      "authorship_tag": "ABX9TyOAAO4CgKRyhFyA5Y0jKYoC",
      "include_colab_link": true
    },
    "kernelspec": {
      "name": "python3",
      "display_name": "Python 3"
    },
    "language_info": {
      "name": "python"
    }
  },
  "cells": [
    {
      "cell_type": "markdown",
      "metadata": {
        "id": "view-in-github",
        "colab_type": "text"
      },
      "source": [
        "<a href=\"https://colab.research.google.com/github/viratbhoomi/DSA/blob/main/dictionary.ipynb\" target=\"_parent\"><img src=\"https://colab.research.google.com/assets/colab-badge.svg\" alt=\"Open In Colab\"/></a>"
      ]
    },
    {
      "cell_type": "code",
      "execution_count": null,
      "metadata": {
        "colab": {
          "base_uri": "https://localhost:8080/"
        },
        "id": "Rhem5g2fI4n0",
        "outputId": "f84ec649-9729-4555-8d0c-4c933ce77e6a"
      },
      "outputs": [
        {
          "output_type": "stream",
          "name": "stdout",
          "text": [
            "{}\n",
            "{'one': 'uno', 'two': 'dos', 'three': 'tres'}\n",
            "{'one': 'uno', 'two': 'dos', 'three': 'tres'}\n"
          ]
        }
      ],
      "source": [
        "# the data is organized in kay, value pairs in dictionary.\n",
        "# dictionaries are implemented by using hash tables.\n",
        "\n",
        "# Time and Space Complexity  is O(1)\n",
        "d = dict()\n",
        "print(d)\n",
        "\n",
        "# Time and space complexity is O(n)\n",
        "eng_to_spa = dict(one='uno',two='dos',three='tres')\n",
        "print(eng_to_spa)\n",
        "\n",
        "\n",
        "eng_to_spa_1 = [('one','uno'),('two','dos'),('three','tres')]\n",
        "print(dict(eng_to_spa_1))\n",
        "\n",
        "# A hash table is a way of doing key-value lookups. You store the values in an array, and then use a hash function to find the index of the array cell\n",
        "# that corresponds to your key-value pair.\n"
      ]
    },
    {
      "cell_type": "code",
      "source": [
        "d = {\"name\":\"Edy\",\"age\":26}\n",
        "d['name']\n",
        "# TC & SC for accessing the element from the dictionary is O(1)\n",
        "# adding pairs to the dictionary is TC & SC O(1) & amortized O(1)\n",
        "\n",
        "# Traverse through a dictionary\n",
        "d = {\"name\":\"Eddie\",\"age\":26,\"city\":\"London\"}\n",
        "def traverseDict(dict):\n",
        "  for key in dict:      #-----------O(n)\n",
        "    print(key,dict[key])   #-----------O(1)\n",
        "print(traverseDict(d))\n",
        "\n",
        "# TC & SC is O(n) and O(1)\n"
      ],
      "metadata": {
        "colab": {
          "base_uri": "https://localhost:8080/"
        },
        "id": "r0oEMHLjKBzW",
        "outputId": "34c75cd9-af00-4631-ebbd-9e3d68760fcd"
      },
      "execution_count": null,
      "outputs": [
        {
          "output_type": "stream",
          "name": "stdout",
          "text": [
            "name Eddie\n",
            "age 26\n",
            "city London\n",
            "None\n"
          ]
        }
      ]
    },
    {
      "cell_type": "code",
      "source": [
        "d = {\"name\":\"Eddie\",\"age\":26,\"city\":\"London\"}\n",
        "def searchDict(dict,value):\n",
        "  for key in dict:         #------------O(n)\n",
        "    if dict[key] == value: #------------O(1)\n",
        "      return key,value     #------------O(1)\n",
        "  return \"The value doesn't exist.\" #------------O(1)\n",
        "searchDict(d,26)\n",
        "searchDict(d,27)\n",
        "\n",
        "# TC & SC is O(n) & O(1)"
      ],
      "metadata": {
        "colab": {
          "base_uri": "https://localhost:8080/",
          "height": 35
        },
        "id": "LHyBtBZ2Ur2g",
        "outputId": "9e1bad83-79cb-40c6-c4cb-45caff3ec577"
      },
      "execution_count": null,
      "outputs": [
        {
          "output_type": "execute_result",
          "data": {
            "text/plain": [
              "\"The value doesn't exist.\""
            ],
            "application/vnd.google.colaboratory.intrinsic+json": {
              "type": "string"
            }
          },
          "metadata": {},
          "execution_count": 12
        }
      ]
    },
    {
      "cell_type": "code",
      "source": [
        "d = {\"name\":\"Eddie\",\"age\":26,\"city\":\"London\",\"education\":\"master\"}\n",
        "# del d[\"age\"]\n",
        "# d.pop('age')\n",
        "# d.popitem()\n",
        "\n",
        "# TC and SC is O(1)\n",
        "\n",
        "d.clear()\n",
        "# TC and SC is O(n) & O(1)\n"
      ],
      "metadata": {
        "colab": {
          "base_uri": "https://localhost:8080/"
        },
        "id": "J12JVh6EW3Sz",
        "outputId": "16631a84-d2b0-4afe-f6b7-c313788af144"
      },
      "execution_count": null,
      "outputs": [
        {
          "output_type": "stream",
          "name": "stdout",
          "text": [
            "{}\n"
          ]
        }
      ]
    },
    {
      "cell_type": "code",
      "source": [
        "# Dictionary Methods\n",
        "d = {\"name\":\"Eddie\",\"age\":26,\"city\":\"London\",\"education\":\"master\"}\n",
        "# d.clear()\n",
        "print(d)\n",
        "d1 = d.copy()\n",
        "print(d1)\n",
        "\n",
        "new_dict = {}.fromkeys([1,2,3],0)\n",
        "print(new_dict)\n",
        "\n",
        "d.get(\"age\")\n",
        "d.get(\"city\",\"Hyderabad\")\n",
        "\n",
        "# if the key or value doesn't present, it will print the value from the get method.\n",
        "d.get(\"town\",\"Hyderabad\")\n",
        "\n",
        "d.items()\n",
        "\n",
        "d.keys()\n",
        "\n",
        "d.values()\n",
        "\n",
        "# d.popitem()\n",
        "\n",
        "# Using setdefault() Method when key already existing\n",
        "print(\"setdefault() returned:\", d.setdefault(\"name\",\"Karl\"))\n",
        "print(\"After using setdefault():\", d)\n",
        "\n",
        "# using setdefault() when key is non-existing\n",
        "ret_value = d.setdefault('C', \"Geeks\")\n",
        "print(\"Return value of setdefault():\", ret_value)\n",
        "print(\"Dictionary after using setdefault():\", d)\n",
        "\n",
        "\n",
        "# d.pop()\n",
        "\n",
        "\n",
        "d.update({\"state\":\"Telangana\"})\n",
        "print(d)\n",
        "\n",
        "\n"
      ],
      "metadata": {
        "colab": {
          "base_uri": "https://localhost:8080/"
        },
        "id": "rUaMCBA5XoUt",
        "outputId": "e1e53346-9019-4242-b51b-498f013c5fd6"
      },
      "execution_count": null,
      "outputs": [
        {
          "output_type": "stream",
          "name": "stdout",
          "text": [
            "{'name': 'Eddie', 'age': 26, 'city': 'London', 'education': 'master'}\n",
            "{'name': 'Eddie', 'age': 26, 'city': 'London', 'education': 'master'}\n",
            "{1: 0, 2: 0, 3: 0}\n",
            "setdefault() returned: Eddie\n",
            "After using setdefault(): {'name': 'Eddie', 'age': 26, 'city': 'London', 'education': 'master'}\n",
            "Return value of setdefault(): Geeks\n",
            "Dictionary after using setdefault(): {'name': 'Eddie', 'age': 26, 'city': 'London', 'education': 'master', 'C': 'Geeks'}\n",
            "{'name': 'Eddie', 'age': 26, 'city': 'London', 'education': 'master', 'C': 'Geeks', 'state': 'Telangana'}\n"
          ]
        }
      ]
    },
    {
      "cell_type": "code",
      "source": [
        "# Dictionary Operation or Builtin Functions\n",
        "d = {\"three\":3,\"five\":5,\"nine\":9,\"two\":1,\"four\":4}\n",
        "print(\"three\" in d)\n",
        "print(3 in d.values())\n",
        "print(len(d))\n",
        "\n",
        "d = {\"three\":3,\"five\":5,\"nine\":9,\"two\":1,\"four\":4}\n",
        "print(all(d))\n",
        "e = {0:\"zero\",False:\"False\"}\n",
        "print(all(e))\n",
        "\n",
        "d = {\"three\":3,\"five\":5,\"nine\":9,\"two\":1,\"four\":4}\n",
        "print(sorted(d))"
      ],
      "metadata": {
        "colab": {
          "base_uri": "https://localhost:8080/"
        },
        "id": "4pEM5knlZSaS",
        "outputId": "4c9df819-bd6a-4099-86cb-b6ac101eb60c"
      },
      "execution_count": null,
      "outputs": [
        {
          "output_type": "stream",
          "name": "stdout",
          "text": [
            "True\n",
            "True\n",
            "5\n",
            "True\n",
            "False\n",
            "['five', 'four', 'nine', 'three', 'two']\n"
          ]
        }
      ]
    },
    {
      "cell_type": "code",
      "source": [
        "# Dictionary vs List\n",
        "# unordered (After Python 3.7)                ordered\n",
        "# access via keys                             access via index\n",
        "# collection of key value pairs               collection of elements\n",
        "# preferred when you have unique key values   preferred when you have ordered data\n",
        "# no duplicate members                        allow duplicate members\n",
        "\n",
        "\n",
        "# Operation Time Complexity Space Complexity\n",
        "# Creating a Dictionary               O(len(dict))     O(n)\n",
        "# Inserting a value in a dictionary   O(1)/O(n)        O(1)\n",
        "# Traversing a given dictionary       O(n)             O(1)\n",
        "# Searcing a given value              O(n)             O(1)\n",
        "# Deleting a given value              O(1)             O(1)\n"
      ],
      "metadata": {
        "id": "GINAtHh2gwWU"
      },
      "execution_count": null,
      "outputs": []
    },
    {
      "cell_type": "code",
      "source": [
        "# Dictionary Comprehension\n",
        "# syntax\n",
        "# new_dict = {new_key:new_value for (key,value) in dict.items()}\n",
        "\n",
        "import random\n",
        "\n",
        "city_names = ['Paris','London','Rome','Berlin','Madrid']\n",
        "\n",
        "city_temps = {city:random.randint(20,30) for city in city_names}\n",
        "print(new_dict)\n",
        "\n",
        "above_25 = {city:temp for (city,temp) in city_temps.items() if temp > 25}\n",
        "print(above_25)\n"
      ],
      "metadata": {
        "colab": {
          "base_uri": "https://localhost:8080/"
        },
        "id": "Sd1Ul-mhka8w",
        "outputId": "0a7839f6-0179-4425-e65a-84974898f620"
      },
      "execution_count": null,
      "outputs": [
        {
          "output_type": "stream",
          "name": "stdout",
          "text": [
            "{'Paris': 28, 'London': 24, 'Rome': 25, 'Berlin': 25, 'Madrid': 30}\n",
            "{'Berlin': 30, 'Madrid': 26}\n"
          ]
        }
      ]
    },
    {
      "cell_type": "code",
      "source": [
        "# print \"Burger\"\n",
        "order = {\n",
        "    \"starter\": {1: \"Salad\", 2: \"Soup\"},\n",
        "    \"main\": {1: [\"Burger\", \"Fries\"], 2: [\"Steak\"]},\n",
        "    \"dessert\": {1: [\"Ice Cream\"], 2: []},\n",
        "}\n",
        "\n",
        "order[\"main\"][1][0]"
      ],
      "metadata": {
        "colab": {
          "base_uri": "https://localhost:8080/",
          "height": 35
        },
        "id": "5ULkFqwmsExX",
        "outputId": "7a076e8b-a436-4c04-fe90-5d3d9b258c11"
      },
      "execution_count": null,
      "outputs": [
        {
          "output_type": "execute_result",
          "data": {
            "text/plain": [
              "'Burger'"
            ],
            "application/vnd.google.colaboratory.intrinsic+json": {
              "type": "string"
            }
          },
          "metadata": {},
          "execution_count": 63
        }
      ]
    },
    {
      "cell_type": "code",
      "source": [
        "# Count Word Frequency\n",
        "# Define a function to count the frequency of words in a given list of words.\n",
        "\n",
        "# Example:\n",
        "\n",
        "# words = ['apple', 'orange', 'banana', 'apple', 'orange', 'apple']\n",
        "# count_word_frequency(words)\n",
        "# Output:\n",
        "\n",
        "#  {'apple': 3, 'orange': 2, 'banana': 1}\n",
        "\n",
        "def count_word_frequency(words):\n",
        "    word_count = {}\n",
        "    for word in words:\n",
        "        word_count[word] = word_count.get(word, 0) + 1\n",
        "    return word_count\n",
        "# count_word_frequency([])\n",
        "count_word_frequency(['apple', 'orange', 'banana', 'apple', 'orange', 'apple'])\n"
      ],
      "metadata": {
        "colab": {
          "base_uri": "https://localhost:8080/"
        },
        "id": "TK8y9X36uLgL",
        "outputId": "33e13818-e2cb-4975-a2cf-62a35b5f79a8"
      },
      "execution_count": null,
      "outputs": [
        {
          "output_type": "execute_result",
          "data": {
            "text/plain": [
              "{'apple': 3, 'orange': 2, 'banana': 1}"
            ]
          },
          "metadata": {},
          "execution_count": 67
        }
      ]
    },
    {
      "cell_type": "code",
      "source": [
        "# Common Keys\n",
        "# Define a function with takes two dictionaries as parameters and merge them and sum the values of common keys.\n",
        "\n",
        "# Example:\n",
        "\n",
        "# dict1 = {'a': 1, 'b': 2, 'c': 3}\n",
        "# dict2 = {'b': 3, 'c': 4, 'd': 5}\n",
        "# merge_dicts(dict1, dict2)\n",
        "# Output:\n",
        "\n",
        "# {'a': 1, 'b': 5, 'c': 7, 'd': 5}\n",
        "\n",
        "def merge_dicts(dict1, dict2):\n",
        "    result = dict1.copy()\n",
        "    for key, value in dict2.items():\n",
        "        result[key] = result.get(key, 0) + value\n",
        "    return result\n",
        "merge_dicts({'a': 1, 'b': 2, 'c': 3}, {'b': 3, 'c': 4, 'd': 5})"
      ],
      "metadata": {
        "colab": {
          "base_uri": "https://localhost:8080/"
        },
        "id": "EsQIYj1nwj_G",
        "outputId": "286bfa57-9416-4f9a-f357-c383674c0278"
      },
      "execution_count": null,
      "outputs": [
        {
          "output_type": "execute_result",
          "data": {
            "text/plain": [
              "{'a': 1, 'b': 5, 'c': 7, 'd': 5}"
            ]
          },
          "metadata": {},
          "execution_count": 82
        }
      ]
    },
    {
      "cell_type": "code",
      "source": [
        "# Key with the Highest Value\n",
        "# Define a function which takes a dictionary as a parameter and returns the key with the highest value in a dictionary.\n",
        "\n",
        "# Example:\n",
        "\n",
        "# my_dict = {'a': 5, 'b': 9, 'c': 2}\n",
        "# max_value_key(my_dict))\n",
        "# Output:\n",
        "\n",
        "# b\n",
        "\n",
        "def max_value_key(my_dict):\n",
        "    return max(my_dict, key=my_dict.get)\n"
      ],
      "metadata": {
        "id": "tSD8OSm7ySjS"
      },
      "execution_count": null,
      "outputs": []
    },
    {
      "cell_type": "code",
      "source": [
        "# Reverse Key-Value Pairs\n",
        "# Define a function which takes as a parameter dictionary and returns a dictionary in which everse the key-value pairs are reversed.\n",
        "\n",
        "# Example:\n",
        "\n",
        "# my_dict = {'a': 1, 'b': 2, 'c': 3}\n",
        "# reverse_dict(my_dict)\n",
        "# Output:\n",
        "\n",
        "# {1: 'a', 2: 'b', 3: 'c'}\n",
        "\n",
        "def reverse_dict(my_dict):\n",
        "    return {v: k for k, v in my_dict.items()}\n"
      ],
      "metadata": {
        "id": "PKw2YrPv9OGA"
      },
      "execution_count": null,
      "outputs": []
    },
    {
      "cell_type": "code",
      "source": [
        "# Conditional Filter\n",
        "# Define a function that takes a dictionary as a parameter and returns a dictionary with elements based on a condition.\n",
        "\n",
        "# Example:\n",
        "\n",
        "# my_dict = {'a': 1, 'b': 2, 'c': 3, 'd': 4}\n",
        "# filtered_dict = filter_dict(my_dict, lambda k, v: v % 2 == 0)\n",
        "# Output:\n",
        "\n",
        "# {'b': 2, 'd': 4}\n",
        "\n",
        "def filter_dict(my_dict, condition):\n",
        "    return {k: v for k, v in my_dict.items() if condition(k, v)}"
      ],
      "metadata": {
        "id": "x5g-T5Gp96yt"
      },
      "execution_count": null,
      "outputs": []
    },
    {
      "cell_type": "code",
      "source": [
        "# Same Frequency\n",
        "# Define a function which takes two lists as parameters and check if two given lists have the same frequency of elements.\n",
        "\n",
        "# Example:\n",
        "\n",
        "# list1 = [1, 2, 3, 2, 1]\n",
        "# list2 = [3, 1, 2, 1, 3]\n",
        "# check_same_frequency(list1, list2)\n",
        "# Output:\n",
        "\n",
        "# False\n",
        "\n",
        "def check_same_frequency(list1, list2):\n",
        "    def count_elements(lst):\n",
        "        counter = {}\n",
        "        for element in lst:\n",
        "            counter[element] = counter.get(element, 0) + 1\n",
        "        return counter\n",
        "\n",
        "    return count_elements(list1) == count_elements(list2)\n"
      ],
      "metadata": {
        "id": "uEEyaDgc-RFI"
      },
      "execution_count": null,
      "outputs": []
    },
    {
      "cell_type": "code",
      "source": [],
      "metadata": {
        "id": "b7EwST_I-i97"
      },
      "execution_count": null,
      "outputs": []
    }
  ]
}