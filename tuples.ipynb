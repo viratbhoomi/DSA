{
  "nbformat": 4,
  "nbformat_minor": 0,
  "metadata": {
    "colab": {
      "provenance": [],
      "authorship_tag": "ABX9TyOswH6nRkyOg32Qhlqh5fNV",
      "include_colab_link": true
    },
    "kernelspec": {
      "name": "python3",
      "display_name": "Python 3"
    },
    "language_info": {
      "name": "python"
    }
  },
  "cells": [
    {
      "cell_type": "markdown",
      "metadata": {
        "id": "view-in-github",
        "colab_type": "text"
      },
      "source": [
        "<a href=\"https://colab.research.google.com/github/viratbhoomi/DSA/blob/main/tuples.ipynb\" target=\"_parent\"><img src=\"https://colab.research.google.com/assets/colab-badge.svg\" alt=\"Open In Colab\"/></a>"
      ]
    },
    {
      "cell_type": "code",
      "execution_count": 6,
      "metadata": {
        "colab": {
          "base_uri": "https://localhost:8080/"
        },
        "id": "wIwEfgjg16yt",
        "outputId": "0f50710c-26cc-479f-d99e-7ac629a5329a"
      },
      "outputs": [
        {
          "output_type": "stream",
          "name": "stdout",
          "text": [
            "('a', 'b', 'c', 'd', 'e')\n",
            "\n",
            "('a',)\n",
            "\n",
            "()\n"
          ]
        }
      ],
      "source": [
        "# tuple is an immutable sequence of python objects.\n",
        "# Tuples are also comparable and hashable\n",
        "\n",
        "tuple_multiple_elements = ('a','b','c','d','e')\n",
        "print(tuple_multiple_elements)\n",
        "print()\n",
        "single_element_tuple = ('a',)\n",
        "print(single_element_tuple)\n",
        "print()\n",
        "\n",
        "empty_tuple = tuple()\n",
        "print(empty_tuple)\n",
        "\n",
        "# time complexity for creating atuple is O(1)\n",
        "# space complexity is O(n)\n"
      ]
    },
    {
      "cell_type": "code",
      "source": [
        "# tuples in memory / accessig an element from the tuple\n",
        "# the elements of the tuple is located in the memory is contiguously.\n",
        "# if we access one of the element from the tuple, the process is extremely optimized. Because the computer already knows where the value is located.\n",
        "\n",
        "# access the elements of tuple.\n",
        "t = ('a','b','c','d','e','f')\n",
        "print(t[1])\n",
        "print(t[2])\n",
        "print(t[-1])\n",
        "print(t[-2])\n",
        "\n",
        "# accessing the tuple elements by using slicing.\n",
        "print(t[0:1])\n",
        "print(t[0:2])\n",
        "print(t[:3])\n",
        "print(t[:-3:-1])\n",
        "\n",
        "\n"
      ],
      "metadata": {
        "colab": {
          "base_uri": "https://localhost:8080/"
        },
        "id": "JApsZJ_a28iS",
        "outputId": "dff628c7-6b8a-4055-bbad-cea649f740ee"
      },
      "execution_count": 24,
      "outputs": [
        {
          "output_type": "stream",
          "name": "stdout",
          "text": [
            "b\n",
            "c\n",
            "f\n",
            "e\n",
            "('a',)\n",
            "('a', 'b')\n",
            "('a', 'b', 'c')\n",
            "('f', 'e')\n"
          ]
        }
      ]
    },
    {
      "cell_type": "code",
      "source": [
        "# traversing the tuple\n",
        "t = ('a','b','c','d','e','f')\n",
        "for i in range(len(t)):\n",
        "  print(t[i])\n",
        "\n",
        "# TC and SC is O(N) & O(1)"
      ],
      "metadata": {
        "colab": {
          "base_uri": "https://localhost:8080/"
        },
        "id": "iPEGRY1_4mo_",
        "outputId": "fbcd9e77-6b79-4f5a-9c0b-04475b31cc6b"
      },
      "execution_count": 28,
      "outputs": [
        {
          "output_type": "stream",
          "name": "stdout",
          "text": [
            "a\n",
            "b\n",
            "c\n",
            "d\n",
            "e\n",
            "f\n"
          ]
        }
      ]
    },
    {
      "cell_type": "code",
      "source": [
        "# searching for an element in tuple\n",
        "t = ('a','b','c','d','e','f')\n",
        "print('a' in t)  #----------->O(N) Here the elements check one by one\n",
        "\n",
        "print(t.index('c'))  #----------->O(N) Here the elements check one by one\n",
        "\n",
        "def searchTuple(p_tuple,element):\n",
        "  for i in range(len(p_tuple)):  #-----O(N)\n",
        "    if p_tuple[i]==element:   #-----O(1)\n",
        "      return f\"The element {element} is found at {i} index\"  #-----O(1)\n",
        "  return \"The element is not found.\" #-----O(1)\n",
        "\n",
        "print(searchTuple(('a','b','c','d','e','f'),'d'))\n",
        "\n",
        "# TC & SC is O(N)&O(1)\n",
        "\n",
        "\n"
      ],
      "metadata": {
        "colab": {
          "base_uri": "https://localhost:8080/"
        },
        "id": "xiM7nKKb5mzr",
        "outputId": "24fc280e-b3eb-48a0-d508-ae1e50732796"
      },
      "execution_count": 36,
      "outputs": [
        {
          "output_type": "stream",
          "name": "stdout",
          "text": [
            "True\n",
            "2\n",
            "The element d is found at 3 index\n"
          ]
        }
      ]
    },
    {
      "cell_type": "code",
      "source": [
        "# tuple operations and methods\n",
        "t1 = (1,4,3,2,1,5)\n",
        "t2 = (1,2,6,9,8,7)\n",
        "\n",
        "# concatinate two tuples\n",
        "print(t1 + t2)\n",
        "\n",
        "# repeat each element 3 times\n",
        "print(t1 * 3)\n",
        "\n",
        "# checking the element in the tuple is exist or not\n",
        "print(4 in t1)\n",
        "\n",
        "# counting the no of elements in the tuple.\n",
        "print(t1.count(1))\n",
        "\n",
        "# finding the index no of the element.\n",
        "print(t1.index(1))\n",
        "\n",
        "# finding the length of tuple\n",
        "print(len(t1))\n",
        "\n",
        "# finding the max element from the tuple\n",
        "print(max(t1))\n",
        "\n",
        "# finding the min element from the tuple\n",
        "print(min(t1))\n",
        "\n",
        "# tuple method can convert a list to tuple\n",
        "print(tuple([1,2,3,4,5,6,7,8,9]))\n"
      ],
      "metadata": {
        "colab": {
          "base_uri": "https://localhost:8080/"
        },
        "id": "L3bNMy8D5981",
        "outputId": "958c78f8-5446-41ab-b3ec-6b5510c3a8ef"
      },
      "execution_count": 53,
      "outputs": [
        {
          "output_type": "stream",
          "name": "stdout",
          "text": [
            "(1, 4, 3, 2, 1, 5, 1, 2, 6, 9, 8, 7)\n",
            "(1, 4, 3, 2, 1, 5, 1, 4, 3, 2, 1, 5, 1, 4, 3, 2, 1, 5)\n",
            "True\n",
            "2\n",
            "0\n",
            "6\n",
            "5\n",
            "1\n",
            "(1, 2, 3, 4, 5, 6, 7, 8, 9)\n"
          ]
        }
      ]
    },
    {
      "cell_type": "code",
      "source": [],
      "metadata": {
        "id": "5L--wkaY7-0c"
      },
      "execution_count": 59,
      "outputs": []
    },
    {
      "cell_type": "code",
      "source": [
        "# we generally use tuples for heterogeneous (different) data types and lists for homogeneous (similar) data types.\n",
        "# Iterating through a tuple is faster than with list.\n",
        "# tuples that contain immutable elements can be used as a key for a dictionary.\n",
        "# If you have data that doesn't change, implementing it as a tuple will guarantee that it remains write-protected.\n",
        "\n",
        "# creating a tuple             O(1)  O(N)\n",
        "# Traversing a given tuple     O(N)  O(1)\n",
        "# Accessing a  given element   O(1)  O(1)\n",
        "# Searching a given element    O(N)  O(1)\n",
        "\n",
        "\n",
        "\n",
        "\n",
        "\n",
        "\n"
      ],
      "metadata": {
        "id": "OtsNzRtS-C7q"
      },
      "execution_count": 60,
      "outputs": []
    },
    {
      "cell_type": "code",
      "source": [
        "# What will be the output of the following code block?\n",
        "\n",
        "init_tuple = ()\n",
        "print (init_tuple.__len__())"
      ],
      "metadata": {
        "colab": {
          "base_uri": "https://localhost:8080/"
        },
        "id": "urURJ1nN_qug",
        "outputId": "25674da9-707c-440f-9d00-47df81b62231"
      },
      "execution_count": 61,
      "outputs": [
        {
          "output_type": "stream",
          "name": "stdout",
          "text": [
            "0\n"
          ]
        }
      ]
    },
    {
      "cell_type": "code",
      "source": [
        "# What will be the output of the following code block?\n",
        "\n",
        "init_tuple_a = 'a', 'b'\n",
        "init_tuple_b = ('a', 'b')\n",
        "\n",
        "print(init_tuple_a == init_tuple_b)"
      ],
      "metadata": {
        "colab": {
          "base_uri": "https://localhost:8080/"
        },
        "id": "XWZc1laYAZyF",
        "outputId": "4fc6ee87-8f32-4763-e905-e57517947551"
      },
      "execution_count": 62,
      "outputs": [
        {
          "output_type": "stream",
          "name": "stdout",
          "text": [
            "True\n"
          ]
        }
      ]
    },
    {
      "cell_type": "code",
      "source": [
        "# What will be the output of the following code block?\n",
        "\n",
        "init_tuple_a = '1', '2'\n",
        "init_tuple_b = ('3', '4')\n",
        "\n",
        "print (init_tuple_a + init_tuple_b)"
      ],
      "metadata": {
        "colab": {
          "base_uri": "https://localhost:8080/"
        },
        "id": "x_3xKruOAhwH",
        "outputId": "21da89d7-122b-4c40-b256-f5eae388af56"
      },
      "execution_count": 63,
      "outputs": [
        {
          "output_type": "stream",
          "name": "stdout",
          "text": [
            "('1', '2', '3', '4')\n"
          ]
        }
      ]
    },
    {
      "cell_type": "code",
      "source": [
        "# What will be the output of the following code block?\n",
        "\n",
        "init_tuple_a = 1, 2\n",
        "init_tuple_b = (3, 4)\n",
        "\n",
        "[print(sum(x)) for x in [init_tuple_a + init_tuple_b]]\n",
        "\n",
        "\n",
        "\n",
        "\n"
      ],
      "metadata": {
        "colab": {
          "base_uri": "https://localhost:8080/"
        },
        "id": "0yT4FMZQAnrk",
        "outputId": "58ab99e1-20ae-4806-c87e-b3ff0c854425"
      },
      "execution_count": 64,
      "outputs": [
        {
          "output_type": "stream",
          "name": "stdout",
          "text": [
            "10\n"
          ]
        },
        {
          "output_type": "execute_result",
          "data": {
            "text/plain": [
              "[None]"
            ]
          },
          "metadata": {},
          "execution_count": 64
        }
      ]
    },
    {
      "cell_type": "code",
      "source": [
        "# What will be the output of the following code block?\n",
        "\n",
        "init_tuple = [(0, 1), (1, 2), (2, 3)]\n",
        "\n",
        "result = sum(n for _, n in init_tuple)\n",
        "\n",
        "print(result)\n",
        "\n",
        "\n",
        "\n",
        "\n"
      ],
      "metadata": {
        "colab": {
          "base_uri": "https://localhost:8080/"
        },
        "id": "NLj-dNGIAwzW",
        "outputId": "c4680f82-8583-455f-d905-4c9f0f251a39"
      },
      "execution_count": 66,
      "outputs": [
        {
          "output_type": "stream",
          "name": "stdout",
          "text": [
            "6\n"
          ]
        }
      ]
    },
    {
      "cell_type": "code",
      "source": [
        "# Sum and Product\n",
        "# Write a function that calculates the sum and product of all elements in a tuple of numbers.\n",
        "\n",
        "# Example\n",
        "\n",
        "# input_tuple = (1, 2, 3, 4)\n",
        "# sum_result, product_result = sum_product(input_tuple)\n",
        "# print(sum_result, product_result)  # Expected output: 10, 24\n",
        "\n",
        "def sum_product(t):\n",
        "    sum_result = 0\n",
        "    product_result = 1\n",
        "\n",
        "    for num in t:\n",
        "        sum_result += num\n",
        "        product_result *= num\n",
        "\n",
        "    return sum_result, product_result\n",
        "\n",
        "input_tuple = (1, 2, 3, 4)\n",
        "sum_result, product_result = sum_product(input_tuple)\n",
        "print(sum_result, product_result)  # Expected output: 10, 24"
      ],
      "metadata": {
        "colab": {
          "base_uri": "https://localhost:8080/"
        },
        "id": "YW658mRXA9DA",
        "outputId": "aaf47d29-f0d7-4576-9acf-d35910eb261e"
      },
      "execution_count": 67,
      "outputs": [
        {
          "output_type": "stream",
          "name": "stdout",
          "text": [
            "10 24\n"
          ]
        }
      ]
    },
    {
      "cell_type": "code",
      "source": [
        "# Elementwise Sum\n",
        "# Create a function that takes two tuples and returns a tuple containing the element-wise sum of the input tuples.\n",
        "\n",
        "# Example\n",
        "\n",
        "# tuple1 = (1, 2, 3)\n",
        "# tuple2 = (4, 5, 6)\n",
        "# output_tuple = tuple_elementwise_sum(tuple1, tuple2)\n",
        "# print(output_tuple)  # Expected output: (5, 7, 9)\n",
        "\n",
        "def tuple_elementwise_sum(t1, t2):\n",
        "    if len(t1) != len(t2):\n",
        "        raise ValueError(\"Input tuples must have the same length.\")\n",
        "\n",
        "    result = tuple(a + b for a, b in zip(t1, t2))\n",
        "    return result"
      ],
      "metadata": {
        "id": "SadUHLIKCSh8"
      },
      "execution_count": 68,
      "outputs": []
    },
    {
      "cell_type": "code",
      "source": [
        "# Insert at the Beginning\n",
        "# Write a function that takes a tuple and a value, and returns a new tuple with the value inserted at the beginning of the original tuple.\n",
        "\n",
        "# Example\n",
        "\n",
        "# input_tuple = (2, 3, 4)\n",
        "# value_to_insert = 1\n",
        "# output_tuple = insert_value_front(input_tuple, value_to_insert)\n",
        "# print(output_tuple)  # Expected output: (1, 2, 3, 4)\n",
        "\n",
        "def insert_value_front(input_tuple, value_to_insert):\n",
        "    return (value_to_insert,) + input_tuple\n",
        "\n",
        "# Example usage:\n",
        "input_tuple = (2, 3, 4)\n",
        "value_to_insert = 1\n",
        "output_tuple = insert_value_front(input_tuple, value_to_insert)\n",
        "print(output_tuple)  # Output: (1, 2, 3, 4)\n",
        "\n",
        "\n"
      ],
      "metadata": {
        "colab": {
          "base_uri": "https://localhost:8080/"
        },
        "id": "r6-htP91Clic",
        "outputId": "23e35001-2ccc-46b7-959e-20ea02257908"
      },
      "execution_count": 69,
      "outputs": [
        {
          "output_type": "stream",
          "name": "stdout",
          "text": [
            "(1, 2, 3, 4)\n"
          ]
        }
      ]
    },
    {
      "cell_type": "code",
      "source": [
        "# Concatenate\n",
        "# Write a function that takes a tuple of strings and concatenates them, separating each string with a space.\n",
        "\n",
        "# Example\n",
        "\n",
        "# input_tuple = ('Hello', 'World', 'from', 'Python')\n",
        "# output_string = concatenate_strings(input_tuple)\n",
        "# print(output_string)  # Expected output: 'Hello World from Python'\n",
        "\n",
        "def concatenate_strings(input_tuple):\n",
        "    return ' '.join(input_tuple)"
      ],
      "metadata": {
        "id": "FoCLWtT2DkK8"
      },
      "execution_count": 70,
      "outputs": []
    },
    {
      "cell_type": "code",
      "source": [
        "# Diagonal\n",
        "# Create a function that takes a tuple of tuples and returns a tuple containing the diagonal elements of the input.\n",
        "\n",
        "# Example\n",
        "\n",
        "# input_tuple = (\n",
        "#     (1, 2, 3),\n",
        "#     (4, 5, 6),\n",
        "#     (7, 8, 9)\n",
        "# )\n",
        "# output_tuple = get_diagonal(input_tuple)\n",
        "# print(output_tuple)  # Expected output: (1, 5, 9)\n",
        "\n",
        "def get_diagonal(input_tuple):\n",
        "    return tuple(input_tuple[i][i] for i in range(len(input_tuple)))"
      ],
      "metadata": {
        "id": "LMrV3QGvD1K6"
      },
      "execution_count": 71,
      "outputs": []
    },
    {
      "cell_type": "code",
      "source": [
        "# Common Elements\n",
        "# Write a function that takes two tuples and returns a tuple containing the common elements of the input tuples.\n",
        "\n",
        "# Example\n",
        "\n",
        "# tuple1 = (1, 2, 3, 4, 5)\n",
        "# tuple2 = (4, 5, 6, 7, 8)\n",
        "# output_tuple = common_elements(tuple1, tuple2)\n",
        "# print(output_tuple)  # Expected output: (4, 5)\n",
        "\n",
        "\n",
        "def common_elements(tuple1, tuple2):\n",
        "    return tuple(set(tuple1) & set(tuple2))"
      ],
      "metadata": {
        "id": "_XYxwwr9EEy7"
      },
      "execution_count": 72,
      "outputs": []
    },
    {
      "cell_type": "code",
      "source": [],
      "metadata": {
        "id": "UMlbGCWSEUGI"
      },
      "execution_count": null,
      "outputs": []
    }
  ]
}